{
 "cells": [
  {
   "cell_type": "code",
   "execution_count": 1,
   "metadata": {},
   "outputs": [
    {
     "data": {
      "text/plain": [
       "[PhysicalDevice(name='/physical_device:GPU:0', device_type='GPU')]"
      ]
     },
     "execution_count": 1,
     "metadata": {},
     "output_type": "execute_result"
    }
   ],
   "source": [
    "import tensorflow as tf\n",
    "tf.config.list_physical_devices(\"GPU\")"
   ]
  },
  {
   "cell_type": "code",
   "execution_count": 2,
   "metadata": {},
   "outputs": [
    {
     "data": {
      "text/html": [
       "<style type='text/css'>\n",
       ".datatable table.frame { margin-bottom: 0; }\n",
       ".datatable table.frame thead { border-bottom: none; }\n",
       ".datatable table.frame tr.coltypes td {  color: #FFFFFF;  line-height: 6px;  padding: 0 0.5em;}\n",
       ".datatable .bool    { background: #DDDD99; }\n",
       ".datatable .object  { background: #565656; }\n",
       ".datatable .int     { background: #5D9E5D; }\n",
       ".datatable .float   { background: #4040CC; }\n",
       ".datatable .str     { background: #CC4040; }\n",
       ".datatable .row_index {  background: var(--jp-border-color3);  border-right: 1px solid var(--jp-border-color0);  color: var(--jp-ui-font-color3);  font-size: 9px;}\n",
       ".datatable .frame tr.coltypes .row_index {  background: var(--jp-border-color0);}\n",
       ".datatable th:nth-child(2) { padding-left: 12px; }\n",
       ".datatable .hellipsis {  color: var(--jp-cell-editor-border-color);}\n",
       ".datatable .vellipsis {  background: var(--jp-layout-color0);  color: var(--jp-cell-editor-border-color);}\n",
       ".datatable .na {  color: var(--jp-cell-editor-border-color);  font-size: 80%;}\n",
       ".datatable .footer { font-size: 9px; }\n",
       ".datatable .frame_dimensions {  background: var(--jp-border-color3);  border-top: 1px solid var(--jp-border-color0);  color: var(--jp-ui-font-color3);  display: inline-block;  opacity: 0.6;  padding: 1px 10px 1px 5px;}\n",
       "</style>\n"
      ],
      "text/plain": [
       "<IPython.core.display.HTML object>"
      ]
     },
     "metadata": {},
     "output_type": "display_data"
    }
   ],
   "source": [
    "\n",
    "\n",
    "import pandas as pd\n",
    "import os\n",
    "import numpy as np\n",
    "from sklearn import metrics\n",
    "from sklearn.model_selection import StratifiedKFold\n",
    "from tensorflow.keras.models import Sequential\n",
    "from tensorflow.keras.layers import Dense, Activation\n",
    "\n",
    "import seaborn as sns\n",
    "import matplotlib.pyplot as plt\n",
    "import datatable as dt\n"
   ]
  },
  {
   "cell_type": "code",
   "execution_count": 3,
   "metadata": {},
   "outputs": [],
   "source": [
    "SEED = 123\n",
    "\n",
    "data = dt.fread('~/jane-street-market-prediction/train.csv').to_pandas()\n"
   ]
  },
  {
   "cell_type": "code",
   "execution_count": null,
   "metadata": {},
   "outputs": [],
   "source": []
  },
  {
   "cell_type": "code",
   "execution_count": 4,
   "metadata": {},
   "outputs": [],
   "source": [
    "profile = pd.pivot_table(data, index='date', values='resp',\n",
    "           aggfunc={'resp':[np.sum, np.std, np.mean]},fill_value=0)\n",
    "profile.sort_values(by='std')\n",
    "vol_bins = pd.qcut(profile['std'], 10, labels=False)"
   ]
  },
  {
   "cell_type": "code",
   "execution_count": 5,
   "metadata": {},
   "outputs": [],
   "source": [
    "data['vol_bin'] = 0\n",
    "for vb in np.unique(vol_bins):\n",
    "    mask = vol_bins == vb\n",
    "    date_mask = data['date'].isin(vol_bins.loc[mask].index)\n",
    "    data.loc[date_mask,'vol_bin'] = vb"
   ]
  },
  {
   "cell_type": "code",
   "execution_count": 6,
   "metadata": {},
   "outputs": [],
   "source": [
    "data.fillna(data.mean(),inplace=True)\n",
    "\n",
    "data['action'] = ((data['resp'].values) < 0).astype(int)\n",
    "\n",
    "\n",
    "features = [c for c in data.columns if \"feature\" in c]\n",
    "features.append('weight')"
   ]
  },
  {
   "cell_type": "code",
   "execution_count": 9,
   "metadata": {},
   "outputs": [
    {
     "data": {
      "text/plain": [
       "131"
      ]
     },
     "execution_count": 9,
     "metadata": {},
     "output_type": "execute_result"
    }
   ],
   "source": [
    "len(features)"
   ]
  },
  {
   "cell_type": "code",
   "execution_count": 10,
   "metadata": {},
   "outputs": [],
   "source": [
    "f_mean = np.mean(data[features[1:]].values,axis=0)\n",
    "\n",
    "\n",
    "target_feature = 'vol_bin'\n",
    "X_train = data.loc[:, features]\n",
    "y_train = (data.loc[:, target_feature])"
   ]
  },
  {
   "cell_type": "code",
   "execution_count": 11,
   "metadata": {},
   "outputs": [],
   "source": [
    "def create_mlp(\n",
    "    num_columns, num_labels, hidden_units, dropout_rates, label_smoothing, learning_rate\n",
    "):\n",
    "\n",
    "    inp = tf.keras.layers.Input(shape=(num_columns,))\n",
    "    x = tf.keras.layers.BatchNormalization()(inp)\n",
    "    #x = tf.keras.layers.BatchNormalization()(inp)\n",
    "    x = tf.keras.layers.Dropout(dropout_rates[0])(x) #(x)\n",
    "    \n",
    "    for i in range(len(hidden_units)):\n",
    "        x = tf.keras.layers.Dense(hidden_units[i])(x)\n",
    "        x = tf.keras.layers.BatchNormalization()(x)\n",
    "        x = tf.keras.layers.Activation(tf.keras.activations.relu)(x)\n",
    "        x = tf.keras.layers.Dropout(dropout_rates[i + 1])(x)\n",
    "        x = tf.keras.layers.Concatenate(axis=1)([x, inp])\n",
    "        x = tf.keras.layers.BatchNormalization()(x)\n",
    "        x = tf.keras.layers.Dense(hidden_units[i])(x)\n",
    "        x = tf.keras.layers.Dropout(dropout_rates[i + 1])(x)\n",
    "\n",
    "    x = tf.keras.layers.Dense(num_labels)(x)\n",
    "    out = tf.keras.layers.Activation(\"sigmoid\")(x)\n",
    "\n",
    "    model = tf.keras.models.Model(inputs=inp, outputs=out)\n",
    "    model.compile(\n",
    "        optimizer=tf.keras.optimizers.Adam(learning_rate=learning_rate),\n",
    "        loss=tf.keras.losses.BinaryCrossentropy(label_smoothing=label_smoothing),\n",
    "        metrics=tf.keras.metrics.AUC(name=\"AUC\"),\n",
    "    )\n",
    "\n",
    "    return model"
   ]
  },
  {
   "cell_type": "code",
   "execution_count": null,
   "metadata": {},
   "outputs": [
    {
     "name": "stdout",
     "output_type": "stream",
     "text": [
      "Epoch 1/200\n",
      "120/120 [==============================] - 5s 21ms/step - loss: -115.6602 - AUC: 0.6262\n",
      "Epoch 2/200\n",
      "120/120 [==============================] - 3s 21ms/step - loss: -3834.5740 - AUC: 0.6329\n",
      "Epoch 3/200\n",
      "120/120 [==============================] - 3s 21ms/step - loss: -22864.2302 - AUC: 0.6149\n",
      "Epoch 4/200\n",
      "120/120 [==============================] - 2s 21ms/step - loss: -70245.9058 - AUC: 0.5799\n",
      "Epoch 5/200\n",
      "120/120 [==============================] - 2s 21ms/step - loss: -157560.9855 - AUC: 0.5525\n",
      "Epoch 6/200\n",
      "120/120 [==============================] - 2s 21ms/step - loss: -295241.2057 - AUC: 0.5333\n",
      "Epoch 7/200\n",
      "120/120 [==============================] - 3s 21ms/step - loss: -492645.6937 - AUC: 0.5225\n",
      "Epoch 8/200\n",
      "120/120 [==============================] - 3s 22ms/step - loss: -756204.7712 - AUC: 0.5161\n",
      "Epoch 9/200\n",
      "120/120 [==============================] - 3s 21ms/step - loss: -1094205.5883 - AUC: 0.5117\n",
      "Epoch 10/200\n",
      "120/120 [==============================] - 3s 21ms/step - loss: -1512460.9628 - AUC: 0.5089\n",
      "Epoch 11/200\n",
      "120/120 [==============================] - 3s 21ms/step - loss: -2014668.4081 - AUC: 0.5069\n",
      "Epoch 12/200\n",
      "120/120 [==============================] - 3s 21ms/step - loss: -2608463.0950 - AUC: 0.5058\n",
      "Epoch 13/200\n",
      "120/120 [==============================] - 2s 21ms/step - loss: -3297816.2934 - AUC: 0.5051\n",
      "Epoch 14/200\n",
      "120/120 [==============================] - 2s 21ms/step - loss: -4083548.8574 - AUC: 0.5041\n",
      "Epoch 15/200\n",
      "120/120 [==============================] - 3s 21ms/step - loss: -4971943.8388 - AUC: 0.5033\n",
      "Epoch 16/200\n",
      "120/120 [==============================] - 3s 21ms/step - loss: -5958440.9008 - AUC: 0.5032\n",
      "Epoch 17/200\n",
      "120/120 [==============================] - 2s 21ms/step - loss: -7063684.4793 - AUC: 0.5028\n",
      "Epoch 18/200\n",
      "120/120 [==============================] - 2s 21ms/step - loss: -8266760.8884 - AUC: 0.5026\n",
      "Epoch 19/200\n",
      "120/120 [==============================] - 3s 21ms/step - loss: -9599293.1736 - AUC: 0.5023\n",
      "Epoch 20/200\n",
      "120/120 [==============================] - 3s 21ms/step - loss: -11029843.6281 - AUC: 0.5020\n",
      "Epoch 21/200\n",
      "120/120 [==============================] - 3s 21ms/step - loss: -12579489.3471 - AUC: 0.5020\n",
      "Epoch 22/200\n",
      "120/120 [==============================] - 3s 21ms/step - loss: -14251134.8678 - AUC: 0.5018\n",
      "Epoch 23/200\n",
      "120/120 [==============================] - 3s 22ms/step - loss: -16044577.2066 - AUC: 0.5020\n",
      "Epoch 24/200\n",
      "120/120 [==============================] - 3s 21ms/step - loss: -17951822.4793 - AUC: 0.5015\n",
      "Epoch 25/200\n",
      "120/120 [==============================] - 3s 21ms/step - loss: -19990487.5207 - AUC: 0.5017\n",
      "Epoch 26/200\n",
      "120/120 [==============================] - 3s 21ms/step - loss: -22170850.6281 - AUC: 0.5016\n",
      "Epoch 27/200\n",
      "120/120 [==============================] - 3s 21ms/step - loss: -24432387.0579 - AUC: 0.5015\n",
      "Epoch 28/200\n",
      "120/120 [==============================] - 3s 21ms/step - loss: -26849753.8017 - AUC: 0.5017\n",
      "Epoch 29/200\n",
      "120/120 [==============================] - 3s 21ms/step - loss: -29408512.8099 - AUC: 0.5016\n",
      "Epoch 30/200\n",
      "120/120 [==============================] - 3s 21ms/step - loss: -32074542.6777 - AUC: 0.5016\n",
      "Epoch 31/200\n",
      "120/120 [==============================] - 3s 21ms/step - loss: -34897894.4793 - AUC: 0.5013\n",
      "Epoch 32/200\n",
      "120/120 [==============================] - 3s 21ms/step - loss: -37852348.2314 - AUC: 0.5015\n",
      "Epoch 33/200\n",
      "120/120 [==============================] - 3s 21ms/step - loss: -40954801.1570 - AUC: 0.5015\n",
      "Epoch 34/200\n",
      "120/120 [==============================] - 3s 22ms/step - loss: -44164566.4793 - AUC: 0.5013\n",
      "Epoch 35/200\n",
      "120/120 [==============================] - 3s 21ms/step - loss: -47479151.1405 - AUC: 0.5014\n",
      "Epoch 36/200\n",
      "120/120 [==============================] - 3s 21ms/step - loss: -50999111.6694 - AUC: 0.5013\n",
      "Epoch 37/200\n",
      "120/120 [==============================] - 3s 21ms/step - loss: -54665397.4876 - AUC: 0.5012\n",
      "Epoch 38/200\n",
      "120/120 [==============================] - 3s 21ms/step - loss: -58454610.6777 - AUC: 0.5013\n",
      "Epoch 39/200\n",
      "120/120 [==============================] - 3s 21ms/step - loss: -62392727.6364 - AUC: 0.5014\n",
      "Epoch 40/200\n",
      "120/120 [==============================] - 3s 21ms/step - loss: -66424642.4132 - AUC: 0.5013\n",
      "Epoch 41/200\n",
      "120/120 [==============================] - 3s 21ms/step - loss: -70751553.5207 - AUC: 0.5012\n",
      "Epoch 42/200\n",
      "120/120 [==============================] - 3s 21ms/step - loss: -75127426.2479 - AUC: 0.5011\n",
      "Epoch 43/200\n",
      "120/120 [==============================] - 3s 21ms/step - loss: -79710077.2893 - AUC: 0.5012\n",
      "Epoch 44/200\n",
      "120/120 [==============================] - 3s 21ms/step - loss: -84315444.6942 - AUC: 0.5013\n",
      "Epoch 45/200\n",
      "120/120 [==============================] - 3s 21ms/step - loss: -89162022.6777 - AUC: 0.5013\n",
      "Epoch 46/200\n",
      "120/120 [==============================] - 3s 21ms/step - loss: -94175954.3140 - AUC: 0.5012\n",
      "Epoch 47/200\n",
      "120/120 [==============================] - 3s 21ms/step - loss: -99320982.8760 - AUC: 0.5012\n",
      "Epoch 48/200\n",
      "120/120 [==============================] - 3s 21ms/step - loss: -104663118.9421 - AUC: 0.5013\n",
      "Epoch 49/200\n",
      "120/120 [==============================] - 3s 21ms/step - loss: -110195720.7273 - AUC: 0.5013\n",
      "Epoch 50/200\n",
      "120/120 [==============================] - 3s 21ms/step - loss: -115806569.3223 - AUC: 0.5013\n",
      "Epoch 51/200\n",
      "120/120 [==============================] - 3s 21ms/step - loss: -121553168.0000 - AUC: 0.5013\n",
      "Epoch 52/200\n",
      "120/120 [==============================] - 3s 21ms/step - loss: -127606103.0083 - AUC: 0.5011\n",
      "Epoch 53/200\n",
      "120/120 [==============================] - 3s 21ms/step - loss: -133815419.9008 - AUC: 0.5013\n",
      "Epoch 54/200\n",
      "120/120 [==============================] - 3s 21ms/step - loss: -140023142.6116 - AUC: 0.5011\n",
      "Epoch 55/200\n",
      "120/120 [==============================] - 3s 21ms/step - loss: -146694575.7355 - AUC: 0.5012\n",
      "Epoch 56/200\n",
      "120/120 [==============================] - 3s 21ms/step - loss: -153300154.8430 - AUC: 0.5011\n",
      "Epoch 57/200\n",
      "120/120 [==============================] - 3s 21ms/step - loss: -160023954.1157 - AUC: 0.5011\n",
      "Epoch 58/200\n",
      "120/120 [==============================] - 3s 21ms/step - loss: -167103279.4711 - AUC: 0.5012\n",
      "Epoch 59/200\n",
      "120/120 [==============================] - 3s 21ms/step - loss: -174420709.2893 - AUC: 0.5012\n",
      "Epoch 60/200\n",
      "120/120 [==============================] - 3s 21ms/step - loss: -181763501.8843 - AUC: 0.5010\n",
      "Epoch 61/200\n",
      "120/120 [==============================] - 3s 21ms/step - loss: -189391236.3636 - AUC: 0.5012\n",
      "Epoch 62/200\n",
      "120/120 [==============================] - 3s 21ms/step - loss: -197019992.4628 - AUC: 0.5013\n",
      "Epoch 63/200\n",
      "120/120 [==============================] - 3s 21ms/step - loss: -204953558.7438 - AUC: 0.5011\n",
      "Epoch 64/200\n",
      "120/120 [==============================] - 3s 21ms/step - loss: -213035554.3802 - AUC: 0.5010\n",
      "Epoch 65/200\n",
      "120/120 [==============================] - 3s 21ms/step - loss: -221584160.2645 - AUC: 0.5012\n",
      "Epoch 66/200\n",
      "120/120 [==============================] - 3s 21ms/step - loss: -229947790.2810 - AUC: 0.5011\n",
      "Epoch 67/200\n",
      "120/120 [==============================] - 3s 21ms/step - loss: -238552277.6860 - AUC: 0.5012\n",
      "Epoch 68/200\n",
      "120/120 [==============================] - 3s 21ms/step - loss: -247674748.2975 - AUC: 0.5011\n",
      "Epoch 69/200\n",
      " 57/120 [=============>................] - ETA: 1s - loss: -255454415.4386 - AUC: 0.5012"
     ]
    }
   ],
   "source": [
    "\n",
    "\n",
    "batch_size = 5000\n",
    "hidden_units = [130, 130, 130]\n",
    "dropout_rates = [0.2, 0.2, 0.2, 0.2]\n",
    "label_smoothing = 1e-2\n",
    "learning_rate = 1e-3\n",
    "\n",
    "len(np.unique(y_train))\n",
    "\n",
    "\n",
    "clf = create_mlp(\n",
    "    len(features),len(np.unique(y_train)), hidden_units, dropout_rates, label_smoothing, learning_rate\n",
    "    )\n",
    "\n",
    "clf.fit(X_train, y_train, epochs=200, batch_size=20000)\n",
    "\n",
    "opt_th = 0.5000\n"
   ]
  },
  {
   "cell_type": "code",
   "execution_count": null,
   "metadata": {},
   "outputs": [],
   "source": [
    "from math import sqrt\n",
    "\n",
    "def utility_score(df,action_vec):\n",
    "    \"\"\"Calculate utility score of a dataframe according to formulas defined at\n",
    "    https://www.kaggle.com/c/jane-street-market-prediction/overview/evaluation\n",
    "    \"\"\"\n",
    "\n",
    "    p = df['weight']  * df['resp'] * action_vec\n",
    "    df['p'] = p\n",
    "    p_i = df.set_index('date')['p'].groupby('date').sum()\n",
    "    t = (p_i.sum() / sqrt((p_i**2).sum())) * (sqrt(250 / p_i.index.size))\n",
    "    return min(max(t, 0), 6) * p_i.sum()"
   ]
  },
  {
   "cell_type": "code",
   "execution_count": null,
   "metadata": {},
   "outputs": [],
   "source": [
    "pred_df = train[['date', 'resp','weight']]\n",
    "pred_df['actual'] = ((train['resp'].values) > 0).astype(int)\n",
    "preds = clf(X_train.values, training=False)\n",
    "pred_df['preds'] = preds.numpy()\n",
    "pred_df['action'] = (pred_df['preds'] >= 0.5) * 1"
   ]
  },
  {
   "cell_type": "code",
   "execution_count": null,
   "metadata": {},
   "outputs": [],
   "source": [
    "utility_score(pred_df, pred_df['action']) / utility_score(pred_df, pred_df['actual'])\n"
   ]
  }
 ],
 "metadata": {
  "kernelspec": {
   "display_name": "Python [conda env:kaggle_tf] *",
   "language": "python",
   "name": "conda-env-kaggle_tf-py"
  },
  "language_info": {
   "codemirror_mode": {
    "name": "ipython",
    "version": 3
   },
   "file_extension": ".py",
   "mimetype": "text/x-python",
   "name": "python",
   "nbconvert_exporter": "python",
   "pygments_lexer": "ipython3",
   "version": "3.8.5"
  }
 },
 "nbformat": 4,
 "nbformat_minor": 4
}
