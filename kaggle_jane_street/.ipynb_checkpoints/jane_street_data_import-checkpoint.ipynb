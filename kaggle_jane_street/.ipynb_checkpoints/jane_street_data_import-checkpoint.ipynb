{
 "cells": [
  {
   "cell_type": "code",
   "execution_count": 1,
   "metadata": {},
   "outputs": [
    {
     "data": {
      "text/plain": [
       "[PhysicalDevice(name='/physical_device:GPU:0', device_type='GPU')]"
      ]
     },
     "execution_count": 1,
     "metadata": {},
     "output_type": "execute_result"
    }
   ],
   "source": [
    "import tensorflow as tf\n",
    "tf.config.list_physical_devices(\"GPU\")"
   ]
  },
  {
   "cell_type": "code",
   "execution_count": 2,
   "metadata": {},
   "outputs": [
    {
     "data": {
      "text/html": [
       "<style type='text/css'>\n",
       ".datatable table.frame { margin-bottom: 0; }\n",
       ".datatable table.frame thead { border-bottom: none; }\n",
       ".datatable table.frame tr.coltypes td {  color: #FFFFFF;  line-height: 6px;  padding: 0 0.5em;}\n",
       ".datatable .bool    { background: #DDDD99; }\n",
       ".datatable .object  { background: #565656; }\n",
       ".datatable .int     { background: #5D9E5D; }\n",
       ".datatable .float   { background: #4040CC; }\n",
       ".datatable .str     { background: #CC4040; }\n",
       ".datatable .row_index {  background: var(--jp-border-color3);  border-right: 1px solid var(--jp-border-color0);  color: var(--jp-ui-font-color3);  font-size: 9px;}\n",
       ".datatable .frame tr.coltypes .row_index {  background: var(--jp-border-color0);}\n",
       ".datatable th:nth-child(2) { padding-left: 12px; }\n",
       ".datatable .hellipsis {  color: var(--jp-cell-editor-border-color);}\n",
       ".datatable .vellipsis {  background: var(--jp-layout-color0);  color: var(--jp-cell-editor-border-color);}\n",
       ".datatable .na {  color: var(--jp-cell-editor-border-color);  font-size: 80%;}\n",
       ".datatable .footer { font-size: 9px; }\n",
       ".datatable .frame_dimensions {  background: var(--jp-border-color3);  border-top: 1px solid var(--jp-border-color0);  color: var(--jp-ui-font-color3);  display: inline-block;  opacity: 0.6;  padding: 1px 10px 1px 5px;}\n",
       "</style>\n"
      ],
      "text/plain": [
       "<IPython.core.display.HTML object>"
      ]
     },
     "metadata": {},
     "output_type": "display_data"
    }
   ],
   "source": [
    "import numpy as np\n",
    "import matplotlib.pyplot as plt\n",
    "import seaborn as sns\n",
    "import pandas as pd\n",
    "import tensorflow as tf\n",
    "import matplotlib.pyplot as plt\n",
    "import datatable as dt\n"
   ]
  },
  {
   "cell_type": "code",
   "execution_count": 3,
   "metadata": {},
   "outputs": [],
   "source": [
    "\n",
    "from tensorflow.keras.layers import Input, Dense, BatchNormalization, Dropout, Concatenate, Lambda, GaussianNoise, Activation\n",
    "from tensorflow.keras.models import Model, Sequential\n",
    "from tensorflow.keras.losses import BinaryCrossentropy\n",
    "from tensorflow.keras.optimizers import Adam\n",
    "from tensorflow.keras.callbacks import EarlyStopping\n",
    "from tensorflow.keras.layers.experimental.preprocessing import Normalization\n",
    "import tensorflow as tf\n",
    "import numpy as np\n",
    "import pandas as pd\n"
   ]
  },
  {
   "cell_type": "code",
   "execution_count": 3,
   "metadata": {},
   "outputs": [],
   "source": [
    "\n",
    "filepath = '~/jane-street-market-prediction/train.csv'\n",
    "\n",
    "data = dt.fread(filepath).to_pandas()\n",
    "\n",
    "\n",
    "#data = pd.read_csv(filepath)\n",
    "data=data[data.weight!=0]\n"
   ]
  },
  {
   "cell_type": "code",
   "execution_count": 2,
   "metadata": {},
   "outputs": [],
   "source": [
    "filepath = '~/jane-street-market-prediction/train.csv'\n",
    "df = pd.read_csv(filepath)"
   ]
  },
  {
   "cell_type": "code",
   "execution_count": 12,
   "metadata": {},
   "outputs": [
    {
     "data": {
      "text/html": [
       "<div>\n",
       "<style scoped>\n",
       "    .dataframe tbody tr th:only-of-type {\n",
       "        vertical-align: middle;\n",
       "    }\n",
       "\n",
       "    .dataframe tbody tr th {\n",
       "        vertical-align: top;\n",
       "    }\n",
       "\n",
       "    .dataframe thead th {\n",
       "        text-align: right;\n",
       "    }\n",
       "</style>\n",
       "<table border=\"1\" class=\"dataframe\">\n",
       "  <thead>\n",
       "    <tr style=\"text-align: right;\">\n",
       "      <th></th>\n",
       "      <th>date</th>\n",
       "      <th>weight</th>\n",
       "      <th>resp_1</th>\n",
       "      <th>resp_2</th>\n",
       "      <th>resp_3</th>\n",
       "      <th>resp_4</th>\n",
       "      <th>resp</th>\n",
       "      <th>feature_0</th>\n",
       "      <th>feature_1</th>\n",
       "      <th>feature_2</th>\n",
       "      <th>...</th>\n",
       "      <th>feature_121</th>\n",
       "      <th>feature_122</th>\n",
       "      <th>feature_123</th>\n",
       "      <th>feature_124</th>\n",
       "      <th>feature_125</th>\n",
       "      <th>feature_126</th>\n",
       "      <th>feature_127</th>\n",
       "      <th>feature_128</th>\n",
       "      <th>feature_129</th>\n",
       "      <th>ts_id</th>\n",
       "    </tr>\n",
       "  </thead>\n",
       "  <tbody>\n",
       "    <tr>\n",
       "      <th>0</th>\n",
       "      <td>0</td>\n",
       "      <td>0.000000</td>\n",
       "      <td>0.009916</td>\n",
       "      <td>0.014079</td>\n",
       "      <td>0.008773</td>\n",
       "      <td>0.001390</td>\n",
       "      <td>0.006270</td>\n",
       "      <td>1</td>\n",
       "      <td>-1.872746</td>\n",
       "      <td>-2.191242</td>\n",
       "      <td>...</td>\n",
       "      <td>NaN</td>\n",
       "      <td>1.168391</td>\n",
       "      <td>8.313583</td>\n",
       "      <td>1.782433</td>\n",
       "      <td>14.018213</td>\n",
       "      <td>2.653056</td>\n",
       "      <td>12.600292</td>\n",
       "      <td>2.301488</td>\n",
       "      <td>11.445807</td>\n",
       "      <td>0</td>\n",
       "    </tr>\n",
       "    <tr>\n",
       "      <th>1</th>\n",
       "      <td>0</td>\n",
       "      <td>16.673515</td>\n",
       "      <td>-0.002828</td>\n",
       "      <td>-0.003226</td>\n",
       "      <td>-0.007319</td>\n",
       "      <td>-0.011114</td>\n",
       "      <td>-0.009792</td>\n",
       "      <td>-1</td>\n",
       "      <td>-1.349537</td>\n",
       "      <td>-1.704709</td>\n",
       "      <td>...</td>\n",
       "      <td>NaN</td>\n",
       "      <td>-1.178850</td>\n",
       "      <td>1.777472</td>\n",
       "      <td>-0.915458</td>\n",
       "      <td>2.831612</td>\n",
       "      <td>-1.417010</td>\n",
       "      <td>2.297459</td>\n",
       "      <td>-1.304614</td>\n",
       "      <td>1.898684</td>\n",
       "      <td>1</td>\n",
       "    </tr>\n",
       "    <tr>\n",
       "      <th>2</th>\n",
       "      <td>0</td>\n",
       "      <td>0.000000</td>\n",
       "      <td>0.025134</td>\n",
       "      <td>0.027607</td>\n",
       "      <td>0.033406</td>\n",
       "      <td>0.034380</td>\n",
       "      <td>0.023970</td>\n",
       "      <td>-1</td>\n",
       "      <td>0.812780</td>\n",
       "      <td>-0.256156</td>\n",
       "      <td>...</td>\n",
       "      <td>NaN</td>\n",
       "      <td>6.115747</td>\n",
       "      <td>9.667908</td>\n",
       "      <td>5.542871</td>\n",
       "      <td>11.671595</td>\n",
       "      <td>7.281757</td>\n",
       "      <td>10.060014</td>\n",
       "      <td>6.638248</td>\n",
       "      <td>9.427299</td>\n",
       "      <td>2</td>\n",
       "    </tr>\n",
       "    <tr>\n",
       "      <th>3</th>\n",
       "      <td>0</td>\n",
       "      <td>0.000000</td>\n",
       "      <td>-0.004730</td>\n",
       "      <td>-0.003273</td>\n",
       "      <td>-0.000461</td>\n",
       "      <td>-0.000476</td>\n",
       "      <td>-0.003200</td>\n",
       "      <td>-1</td>\n",
       "      <td>1.174378</td>\n",
       "      <td>0.344640</td>\n",
       "      <td>...</td>\n",
       "      <td>NaN</td>\n",
       "      <td>2.838853</td>\n",
       "      <td>0.499251</td>\n",
       "      <td>3.033732</td>\n",
       "      <td>1.513488</td>\n",
       "      <td>4.397532</td>\n",
       "      <td>1.266037</td>\n",
       "      <td>3.856384</td>\n",
       "      <td>1.013469</td>\n",
       "      <td>3</td>\n",
       "    </tr>\n",
       "    <tr>\n",
       "      <th>4</th>\n",
       "      <td>0</td>\n",
       "      <td>0.138531</td>\n",
       "      <td>0.001252</td>\n",
       "      <td>0.002165</td>\n",
       "      <td>-0.001215</td>\n",
       "      <td>-0.006219</td>\n",
       "      <td>-0.002604</td>\n",
       "      <td>1</td>\n",
       "      <td>-3.172026</td>\n",
       "      <td>-3.093182</td>\n",
       "      <td>...</td>\n",
       "      <td>NaN</td>\n",
       "      <td>0.344850</td>\n",
       "      <td>4.101145</td>\n",
       "      <td>0.614252</td>\n",
       "      <td>6.623456</td>\n",
       "      <td>0.800129</td>\n",
       "      <td>5.233243</td>\n",
       "      <td>0.362636</td>\n",
       "      <td>3.926633</td>\n",
       "      <td>4</td>\n",
       "    </tr>\n",
       "  </tbody>\n",
       "</table>\n",
       "<p>5 rows × 138 columns</p>\n",
       "</div>"
      ],
      "text/plain": [
       "   date     weight    resp_1    resp_2    resp_3    resp_4      resp  \\\n",
       "0     0   0.000000  0.009916  0.014079  0.008773  0.001390  0.006270   \n",
       "1     0  16.673515 -0.002828 -0.003226 -0.007319 -0.011114 -0.009792   \n",
       "2     0   0.000000  0.025134  0.027607  0.033406  0.034380  0.023970   \n",
       "3     0   0.000000 -0.004730 -0.003273 -0.000461 -0.000476 -0.003200   \n",
       "4     0   0.138531  0.001252  0.002165 -0.001215 -0.006219 -0.002604   \n",
       "\n",
       "   feature_0  feature_1  feature_2  ...  feature_121  feature_122  \\\n",
       "0          1  -1.872746  -2.191242  ...          NaN     1.168391   \n",
       "1         -1  -1.349537  -1.704709  ...          NaN    -1.178850   \n",
       "2         -1   0.812780  -0.256156  ...          NaN     6.115747   \n",
       "3         -1   1.174378   0.344640  ...          NaN     2.838853   \n",
       "4          1  -3.172026  -3.093182  ...          NaN     0.344850   \n",
       "\n",
       "   feature_123  feature_124  feature_125  feature_126  feature_127  \\\n",
       "0     8.313583     1.782433    14.018213     2.653056    12.600292   \n",
       "1     1.777472    -0.915458     2.831612    -1.417010     2.297459   \n",
       "2     9.667908     5.542871    11.671595     7.281757    10.060014   \n",
       "3     0.499251     3.033732     1.513488     4.397532     1.266037   \n",
       "4     4.101145     0.614252     6.623456     0.800129     5.233243   \n",
       "\n",
       "   feature_128  feature_129  ts_id  \n",
       "0     2.301488    11.445807      0  \n",
       "1    -1.304614     1.898684      1  \n",
       "2     6.638248     9.427299      2  \n",
       "3     3.856384     1.013469      3  \n",
       "4     0.362636     3.926633      4  \n",
       "\n",
       "[5 rows x 138 columns]"
      ]
     },
     "execution_count": 12,
     "metadata": {},
     "output_type": "execute_result"
    }
   ],
   "source": [
    "df.head()"
   ]
  },
  {
   "cell_type": "code",
   "execution_count": 13,
   "metadata": {},
   "outputs": [
    {
     "data": {
      "text/html": [
       "<div>\n",
       "<style scoped>\n",
       "    .dataframe tbody tr th:only-of-type {\n",
       "        vertical-align: middle;\n",
       "    }\n",
       "\n",
       "    .dataframe tbody tr th {\n",
       "        vertical-align: top;\n",
       "    }\n",
       "\n",
       "    .dataframe thead th {\n",
       "        text-align: right;\n",
       "    }\n",
       "</style>\n",
       "<table border=\"1\" class=\"dataframe\">\n",
       "  <thead>\n",
       "    <tr style=\"text-align: right;\">\n",
       "      <th></th>\n",
       "      <th>date</th>\n",
       "      <th>weight</th>\n",
       "      <th>resp_1</th>\n",
       "      <th>resp_2</th>\n",
       "      <th>resp_3</th>\n",
       "      <th>resp_4</th>\n",
       "      <th>resp</th>\n",
       "      <th>feature_0</th>\n",
       "      <th>feature_1</th>\n",
       "      <th>feature_2</th>\n",
       "      <th>...</th>\n",
       "      <th>feature_121</th>\n",
       "      <th>feature_122</th>\n",
       "      <th>feature_123</th>\n",
       "      <th>feature_124</th>\n",
       "      <th>feature_125</th>\n",
       "      <th>feature_126</th>\n",
       "      <th>feature_127</th>\n",
       "      <th>feature_128</th>\n",
       "      <th>feature_129</th>\n",
       "      <th>ts_id</th>\n",
       "    </tr>\n",
       "  </thead>\n",
       "  <tbody>\n",
       "    <tr>\n",
       "      <th>count</th>\n",
       "      <td>2.390491e+06</td>\n",
       "      <td>2.390491e+06</td>\n",
       "      <td>2.390491e+06</td>\n",
       "      <td>2.390491e+06</td>\n",
       "      <td>2.390491e+06</td>\n",
       "      <td>2.390491e+06</td>\n",
       "      <td>2.390491e+06</td>\n",
       "      <td>2.390491e+06</td>\n",
       "      <td>2.390491e+06</td>\n",
       "      <td>2.390491e+06</td>\n",
       "      <td>...</td>\n",
       "      <td>2.320637e+06</td>\n",
       "      <td>2.390268e+06</td>\n",
       "      <td>2.390268e+06</td>\n",
       "      <td>2.374408e+06</td>\n",
       "      <td>2.374408e+06</td>\n",
       "      <td>2.381638e+06</td>\n",
       "      <td>2.381638e+06</td>\n",
       "      <td>2.388570e+06</td>\n",
       "      <td>2.388570e+06</td>\n",
       "      <td>2.390491e+06</td>\n",
       "    </tr>\n",
       "    <tr>\n",
       "      <th>mean</th>\n",
       "      <td>2.478668e+02</td>\n",
       "      <td>3.031535e+00</td>\n",
       "      <td>1.434969e-04</td>\n",
       "      <td>1.980749e-04</td>\n",
       "      <td>2.824183e-04</td>\n",
       "      <td>4.350201e-04</td>\n",
       "      <td>4.083113e-04</td>\n",
       "      <td>9.838565e-03</td>\n",
       "      <td>3.855776e-01</td>\n",
       "      <td>3.576875e-01</td>\n",
       "      <td>...</td>\n",
       "      <td>2.687757e-01</td>\n",
       "      <td>3.435523e-01</td>\n",
       "      <td>2.799973e-01</td>\n",
       "      <td>3.351537e-01</td>\n",
       "      <td>2.448752e-01</td>\n",
       "      <td>3.391778e-01</td>\n",
       "      <td>2.323809e-01</td>\n",
       "      <td>3.425608e-01</td>\n",
       "      <td>2.456182e-01</td>\n",
       "      <td>1.195245e+06</td>\n",
       "    </tr>\n",
       "    <tr>\n",
       "      <th>std</th>\n",
       "      <td>1.522746e+02</td>\n",
       "      <td>7.672794e+00</td>\n",
       "      <td>8.930163e-03</td>\n",
       "      <td>1.230236e-02</td>\n",
       "      <td>1.906882e-02</td>\n",
       "      <td>3.291224e-02</td>\n",
       "      <td>2.693609e-02</td>\n",
       "      <td>9.999518e-01</td>\n",
       "      <td>2.559373e+00</td>\n",
       "      <td>2.477335e+00</td>\n",
       "      <td>...</td>\n",
       "      <td>2.174238e+00</td>\n",
       "      <td>2.087842e+00</td>\n",
       "      <td>1.977643e+00</td>\n",
       "      <td>1.742587e+00</td>\n",
       "      <td>2.242853e+00</td>\n",
       "      <td>2.534498e+00</td>\n",
       "      <td>1.795854e+00</td>\n",
       "      <td>2.307130e+00</td>\n",
       "      <td>1.765419e+00</td>\n",
       "      <td>6.900755e+05</td>\n",
       "    </tr>\n",
       "    <tr>\n",
       "      <th>min</th>\n",
       "      <td>0.000000e+00</td>\n",
       "      <td>0.000000e+00</td>\n",
       "      <td>-3.675043e-01</td>\n",
       "      <td>-5.328334e-01</td>\n",
       "      <td>-5.681196e-01</td>\n",
       "      <td>-5.987447e-01</td>\n",
       "      <td>-5.493845e-01</td>\n",
       "      <td>-1.000000e+00</td>\n",
       "      <td>-3.172026e+00</td>\n",
       "      <td>-3.093182e+00</td>\n",
       "      <td>...</td>\n",
       "      <td>-7.471971e+00</td>\n",
       "      <td>-5.862979e+00</td>\n",
       "      <td>-6.029281e+00</td>\n",
       "      <td>-4.080720e+00</td>\n",
       "      <td>-8.136407e+00</td>\n",
       "      <td>-8.215050e+00</td>\n",
       "      <td>-5.765982e+00</td>\n",
       "      <td>-7.024909e+00</td>\n",
       "      <td>-5.282181e+00</td>\n",
       "      <td>0.000000e+00</td>\n",
       "    </tr>\n",
       "    <tr>\n",
       "      <th>25%</th>\n",
       "      <td>1.040000e+02</td>\n",
       "      <td>1.617400e-01</td>\n",
       "      <td>-1.859162e-03</td>\n",
       "      <td>-2.655044e-03</td>\n",
       "      <td>-5.030704e-03</td>\n",
       "      <td>-9.310415e-03</td>\n",
       "      <td>-7.157903e-03</td>\n",
       "      <td>-1.000000e+00</td>\n",
       "      <td>-1.299334e+00</td>\n",
       "      <td>-1.263628e+00</td>\n",
       "      <td>...</td>\n",
       "      <td>-1.123252e+00</td>\n",
       "      <td>-1.114326e+00</td>\n",
       "      <td>-9.512009e-01</td>\n",
       "      <td>-9.133750e-01</td>\n",
       "      <td>-1.212124e+00</td>\n",
       "      <td>-1.452912e+00</td>\n",
       "      <td>-8.993050e-01</td>\n",
       "      <td>-1.278341e+00</td>\n",
       "      <td>-8.544535e-01</td>\n",
       "      <td>5.976225e+05</td>\n",
       "    </tr>\n",
       "    <tr>\n",
       "      <th>50%</th>\n",
       "      <td>2.540000e+02</td>\n",
       "      <td>7.086770e-01</td>\n",
       "      <td>4.552665e-05</td>\n",
       "      <td>6.928179e-05</td>\n",
       "      <td>1.164734e-04</td>\n",
       "      <td>1.222579e-04</td>\n",
       "      <td>8.634997e-05</td>\n",
       "      <td>1.000000e+00</td>\n",
       "      <td>-1.870182e-05</td>\n",
       "      <td>-7.200577e-07</td>\n",
       "      <td>...</td>\n",
       "      <td>0.000000e+00</td>\n",
       "      <td>7.006233e-17</td>\n",
       "      <td>6.054629e-17</td>\n",
       "      <td>4.870826e-17</td>\n",
       "      <td>-2.558675e-16</td>\n",
       "      <td>1.015055e-16</td>\n",
       "      <td>5.419920e-17</td>\n",
       "      <td>8.563069e-17</td>\n",
       "      <td>4.869529e-17</td>\n",
       "      <td>1.195245e+06</td>\n",
       "    </tr>\n",
       "    <tr>\n",
       "      <th>75%</th>\n",
       "      <td>3.820000e+02</td>\n",
       "      <td>2.471791e+00</td>\n",
       "      <td>2.097469e-03</td>\n",
       "      <td>2.939111e-03</td>\n",
       "      <td>5.466336e-03</td>\n",
       "      <td>9.804649e-03</td>\n",
       "      <td>7.544347e-03</td>\n",
       "      <td>1.000000e+00</td>\n",
       "      <td>1.578417e+00</td>\n",
       "      <td>1.526399e+00</td>\n",
       "      <td>...</td>\n",
       "      <td>1.342829e+00</td>\n",
       "      <td>1.405926e+00</td>\n",
       "      <td>1.308625e+00</td>\n",
       "      <td>1.228277e+00</td>\n",
       "      <td>1.409687e+00</td>\n",
       "      <td>1.767275e+00</td>\n",
       "      <td>1.111491e+00</td>\n",
       "      <td>1.582633e+00</td>\n",
       "      <td>1.125321e+00</td>\n",
       "      <td>1.792868e+06</td>\n",
       "    </tr>\n",
       "    <tr>\n",
       "      <th>max</th>\n",
       "      <td>4.990000e+02</td>\n",
       "      <td>1.672937e+02</td>\n",
       "      <td>2.453477e-01</td>\n",
       "      <td>2.949339e-01</td>\n",
       "      <td>3.265597e-01</td>\n",
       "      <td>5.113795e-01</td>\n",
       "      <td>4.484616e-01</td>\n",
       "      <td>1.000000e+00</td>\n",
       "      <td>7.442989e+01</td>\n",
       "      <td>1.480763e+02</td>\n",
       "      <td>...</td>\n",
       "      <td>1.107771e+02</td>\n",
       "      <td>4.812516e+01</td>\n",
       "      <td>1.276908e+02</td>\n",
       "      <td>6.514517e+01</td>\n",
       "      <td>7.052807e+01</td>\n",
       "      <td>5.872849e+01</td>\n",
       "      <td>6.932221e+01</td>\n",
       "      <td>5.119038e+01</td>\n",
       "      <td>1.164568e+02</td>\n",
       "      <td>2.390490e+06</td>\n",
       "    </tr>\n",
       "  </tbody>\n",
       "</table>\n",
       "<p>8 rows × 138 columns</p>\n",
       "</div>"
      ],
      "text/plain": [
       "               date        weight        resp_1        resp_2        resp_3  \\\n",
       "count  2.390491e+06  2.390491e+06  2.390491e+06  2.390491e+06  2.390491e+06   \n",
       "mean   2.478668e+02  3.031535e+00  1.434969e-04  1.980749e-04  2.824183e-04   \n",
       "std    1.522746e+02  7.672794e+00  8.930163e-03  1.230236e-02  1.906882e-02   \n",
       "min    0.000000e+00  0.000000e+00 -3.675043e-01 -5.328334e-01 -5.681196e-01   \n",
       "25%    1.040000e+02  1.617400e-01 -1.859162e-03 -2.655044e-03 -5.030704e-03   \n",
       "50%    2.540000e+02  7.086770e-01  4.552665e-05  6.928179e-05  1.164734e-04   \n",
       "75%    3.820000e+02  2.471791e+00  2.097469e-03  2.939111e-03  5.466336e-03   \n",
       "max    4.990000e+02  1.672937e+02  2.453477e-01  2.949339e-01  3.265597e-01   \n",
       "\n",
       "             resp_4          resp     feature_0     feature_1     feature_2  \\\n",
       "count  2.390491e+06  2.390491e+06  2.390491e+06  2.390491e+06  2.390491e+06   \n",
       "mean   4.350201e-04  4.083113e-04  9.838565e-03  3.855776e-01  3.576875e-01   \n",
       "std    3.291224e-02  2.693609e-02  9.999518e-01  2.559373e+00  2.477335e+00   \n",
       "min   -5.987447e-01 -5.493845e-01 -1.000000e+00 -3.172026e+00 -3.093182e+00   \n",
       "25%   -9.310415e-03 -7.157903e-03 -1.000000e+00 -1.299334e+00 -1.263628e+00   \n",
       "50%    1.222579e-04  8.634997e-05  1.000000e+00 -1.870182e-05 -7.200577e-07   \n",
       "75%    9.804649e-03  7.544347e-03  1.000000e+00  1.578417e+00  1.526399e+00   \n",
       "max    5.113795e-01  4.484616e-01  1.000000e+00  7.442989e+01  1.480763e+02   \n",
       "\n",
       "       ...   feature_121   feature_122   feature_123   feature_124  \\\n",
       "count  ...  2.320637e+06  2.390268e+06  2.390268e+06  2.374408e+06   \n",
       "mean   ...  2.687757e-01  3.435523e-01  2.799973e-01  3.351537e-01   \n",
       "std    ...  2.174238e+00  2.087842e+00  1.977643e+00  1.742587e+00   \n",
       "min    ... -7.471971e+00 -5.862979e+00 -6.029281e+00 -4.080720e+00   \n",
       "25%    ... -1.123252e+00 -1.114326e+00 -9.512009e-01 -9.133750e-01   \n",
       "50%    ...  0.000000e+00  7.006233e-17  6.054629e-17  4.870826e-17   \n",
       "75%    ...  1.342829e+00  1.405926e+00  1.308625e+00  1.228277e+00   \n",
       "max    ...  1.107771e+02  4.812516e+01  1.276908e+02  6.514517e+01   \n",
       "\n",
       "        feature_125   feature_126   feature_127   feature_128   feature_129  \\\n",
       "count  2.374408e+06  2.381638e+06  2.381638e+06  2.388570e+06  2.388570e+06   \n",
       "mean   2.448752e-01  3.391778e-01  2.323809e-01  3.425608e-01  2.456182e-01   \n",
       "std    2.242853e+00  2.534498e+00  1.795854e+00  2.307130e+00  1.765419e+00   \n",
       "min   -8.136407e+00 -8.215050e+00 -5.765982e+00 -7.024909e+00 -5.282181e+00   \n",
       "25%   -1.212124e+00 -1.452912e+00 -8.993050e-01 -1.278341e+00 -8.544535e-01   \n",
       "50%   -2.558675e-16  1.015055e-16  5.419920e-17  8.563069e-17  4.869529e-17   \n",
       "75%    1.409687e+00  1.767275e+00  1.111491e+00  1.582633e+00  1.125321e+00   \n",
       "max    7.052807e+01  5.872849e+01  6.932221e+01  5.119038e+01  1.164568e+02   \n",
       "\n",
       "              ts_id  \n",
       "count  2.390491e+06  \n",
       "mean   1.195245e+06  \n",
       "std    6.900755e+05  \n",
       "min    0.000000e+00  \n",
       "25%    5.976225e+05  \n",
       "50%    1.195245e+06  \n",
       "75%    1.792868e+06  \n",
       "max    2.390490e+06  \n",
       "\n",
       "[8 rows x 138 columns]"
      ]
     },
     "execution_count": 13,
     "metadata": {},
     "output_type": "execute_result"
    }
   ],
   "source": [
    "df.describe()\n"
   ]
  },
  {
   "cell_type": "code",
   "execution_count": 17,
   "metadata": {},
   "outputs": [
    {
     "name": "stdout",
     "output_type": "stream",
     "text": [
      "(1981287, 138)\n",
      "(2390491, 138)\n"
     ]
    }
   ],
   "source": [
    "print(data.shape)\n",
    "print(df.shape)"
   ]
  },
  {
   "cell_type": "code",
   "execution_count": 19,
   "metadata": {},
   "outputs": [
    {
     "data": {
      "text/html": [
       "<div>\n",
       "<style scoped>\n",
       "    .dataframe tbody tr th:only-of-type {\n",
       "        vertical-align: middle;\n",
       "    }\n",
       "\n",
       "    .dataframe tbody tr th {\n",
       "        vertical-align: top;\n",
       "    }\n",
       "\n",
       "    .dataframe thead th {\n",
       "        text-align: right;\n",
       "    }\n",
       "</style>\n",
       "<table border=\"1\" class=\"dataframe\">\n",
       "  <thead>\n",
       "    <tr style=\"text-align: right;\">\n",
       "      <th></th>\n",
       "      <th>date</th>\n",
       "      <th>weight</th>\n",
       "      <th>resp_1</th>\n",
       "      <th>resp_2</th>\n",
       "      <th>resp_3</th>\n",
       "      <th>resp_4</th>\n",
       "      <th>resp</th>\n",
       "      <th>feature_0</th>\n",
       "      <th>feature_1</th>\n",
       "      <th>feature_2</th>\n",
       "      <th>...</th>\n",
       "      <th>feature_121</th>\n",
       "      <th>feature_122</th>\n",
       "      <th>feature_123</th>\n",
       "      <th>feature_124</th>\n",
       "      <th>feature_125</th>\n",
       "      <th>feature_126</th>\n",
       "      <th>feature_127</th>\n",
       "      <th>feature_128</th>\n",
       "      <th>feature_129</th>\n",
       "      <th>ts_id</th>\n",
       "    </tr>\n",
       "  </thead>\n",
       "  <tbody>\n",
       "    <tr>\n",
       "      <th>0</th>\n",
       "      <td>86</td>\n",
       "      <td>0.859516</td>\n",
       "      <td>-0.003656</td>\n",
       "      <td>-0.005449</td>\n",
       "      <td>-0.017403</td>\n",
       "      <td>-0.028896</td>\n",
       "      <td>-0.021435</td>\n",
       "      <td>1</td>\n",
       "      <td>3.151305</td>\n",
       "      <td>5.467693</td>\n",
       "      <td>...</td>\n",
       "      <td>NaN</td>\n",
       "      <td>2.433699</td>\n",
       "      <td>4.282284</td>\n",
       "      <td>1.621115</td>\n",
       "      <td>4.331030</td>\n",
       "      <td>2.553220</td>\n",
       "      <td>3.799011</td>\n",
       "      <td>2.642943</td>\n",
       "      <td>3.998054</td>\n",
       "      <td>527894</td>\n",
       "    </tr>\n",
       "    <tr>\n",
       "      <th>1</th>\n",
       "      <td>86</td>\n",
       "      <td>0.000000</td>\n",
       "      <td>-0.009107</td>\n",
       "      <td>-0.013542</td>\n",
       "      <td>-0.022222</td>\n",
       "      <td>-0.032522</td>\n",
       "      <td>-0.026394</td>\n",
       "      <td>1</td>\n",
       "      <td>2.249176</td>\n",
       "      <td>2.618401</td>\n",
       "      <td>...</td>\n",
       "      <td>NaN</td>\n",
       "      <td>2.053416</td>\n",
       "      <td>-0.493276</td>\n",
       "      <td>1.661974</td>\n",
       "      <td>-1.082122</td>\n",
       "      <td>2.427706</td>\n",
       "      <td>-0.756115</td>\n",
       "      <td>2.210572</td>\n",
       "      <td>-0.639075</td>\n",
       "      <td>527895</td>\n",
       "    </tr>\n",
       "    <tr>\n",
       "      <th>2</th>\n",
       "      <td>86</td>\n",
       "      <td>0.590949</td>\n",
       "      <td>0.000347</td>\n",
       "      <td>-0.000376</td>\n",
       "      <td>-0.004051</td>\n",
       "      <td>-0.007995</td>\n",
       "      <td>-0.004743</td>\n",
       "      <td>-1</td>\n",
       "      <td>-0.365888</td>\n",
       "      <td>0.824004</td>\n",
       "      <td>...</td>\n",
       "      <td>NaN</td>\n",
       "      <td>-0.702873</td>\n",
       "      <td>4.038753</td>\n",
       "      <td>-0.789767</td>\n",
       "      <td>4.133183</td>\n",
       "      <td>-1.207878</td>\n",
       "      <td>3.402796</td>\n",
       "      <td>-0.928290</td>\n",
       "      <td>3.511141</td>\n",
       "      <td>527896</td>\n",
       "    </tr>\n",
       "    <tr>\n",
       "      <th>3</th>\n",
       "      <td>86</td>\n",
       "      <td>0.172997</td>\n",
       "      <td>0.000168</td>\n",
       "      <td>0.000333</td>\n",
       "      <td>-0.002375</td>\n",
       "      <td>-0.003064</td>\n",
       "      <td>0.001527</td>\n",
       "      <td>1</td>\n",
       "      <td>1.514607</td>\n",
       "      <td>0.596214</td>\n",
       "      <td>...</td>\n",
       "      <td>NaN</td>\n",
       "      <td>2.304354</td>\n",
       "      <td>1.530169</td>\n",
       "      <td>3.596848</td>\n",
       "      <td>4.613493</td>\n",
       "      <td>4.516110</td>\n",
       "      <td>3.341374</td>\n",
       "      <td>2.635798</td>\n",
       "      <td>1.535235</td>\n",
       "      <td>527897</td>\n",
       "    </tr>\n",
       "    <tr>\n",
       "      <th>4</th>\n",
       "      <td>86</td>\n",
       "      <td>0.000000</td>\n",
       "      <td>0.000503</td>\n",
       "      <td>0.000589</td>\n",
       "      <td>-0.001587</td>\n",
       "      <td>-0.002665</td>\n",
       "      <td>-0.000139</td>\n",
       "      <td>-1</td>\n",
       "      <td>-1.158576</td>\n",
       "      <td>-0.146579</td>\n",
       "      <td>...</td>\n",
       "      <td>NaN</td>\n",
       "      <td>-1.364269</td>\n",
       "      <td>2.006926</td>\n",
       "      <td>-1.237922</td>\n",
       "      <td>2.124396</td>\n",
       "      <td>-2.005723</td>\n",
       "      <td>1.716914</td>\n",
       "      <td>-1.646484</td>\n",
       "      <td>1.795211</td>\n",
       "      <td>527898</td>\n",
       "    </tr>\n",
       "    <tr>\n",
       "      <th>...</th>\n",
       "      <td>...</td>\n",
       "      <td>...</td>\n",
       "      <td>...</td>\n",
       "      <td>...</td>\n",
       "      <td>...</td>\n",
       "      <td>...</td>\n",
       "      <td>...</td>\n",
       "      <td>...</td>\n",
       "      <td>...</td>\n",
       "      <td>...</td>\n",
       "      <td>...</td>\n",
       "      <td>...</td>\n",
       "      <td>...</td>\n",
       "      <td>...</td>\n",
       "      <td>...</td>\n",
       "      <td>...</td>\n",
       "      <td>...</td>\n",
       "      <td>...</td>\n",
       "      <td>...</td>\n",
       "      <td>...</td>\n",
       "      <td>...</td>\n",
       "    </tr>\n",
       "    <tr>\n",
       "      <th>1862592</th>\n",
       "      <td>499</td>\n",
       "      <td>0.000000</td>\n",
       "      <td>0.000142</td>\n",
       "      <td>0.000142</td>\n",
       "      <td>0.005829</td>\n",
       "      <td>0.020342</td>\n",
       "      <td>0.015396</td>\n",
       "      <td>1</td>\n",
       "      <td>-1.649365</td>\n",
       "      <td>-1.169996</td>\n",
       "      <td>...</td>\n",
       "      <td>-1.896874</td>\n",
       "      <td>-1.260055</td>\n",
       "      <td>1.947725</td>\n",
       "      <td>-1.994399</td>\n",
       "      <td>-1.685163</td>\n",
       "      <td>-2.866165</td>\n",
       "      <td>-0.216130</td>\n",
       "      <td>-1.892048</td>\n",
       "      <td>0.901585</td>\n",
       "      <td>2390486</td>\n",
       "    </tr>\n",
       "    <tr>\n",
       "      <th>1862593</th>\n",
       "      <td>499</td>\n",
       "      <td>0.000000</td>\n",
       "      <td>0.000012</td>\n",
       "      <td>0.000012</td>\n",
       "      <td>-0.000935</td>\n",
       "      <td>-0.006326</td>\n",
       "      <td>-0.004718</td>\n",
       "      <td>1</td>\n",
       "      <td>2.432943</td>\n",
       "      <td>5.284504</td>\n",
       "      <td>...</td>\n",
       "      <td>-0.936553</td>\n",
       "      <td>1.064936</td>\n",
       "      <td>3.119762</td>\n",
       "      <td>-0.419796</td>\n",
       "      <td>-0.208975</td>\n",
       "      <td>-0.146749</td>\n",
       "      <td>0.730166</td>\n",
       "      <td>0.648452</td>\n",
       "      <td>2.068737</td>\n",
       "      <td>2390487</td>\n",
       "    </tr>\n",
       "    <tr>\n",
       "      <th>1862594</th>\n",
       "      <td>499</td>\n",
       "      <td>0.000000</td>\n",
       "      <td>0.000499</td>\n",
       "      <td>0.000499</td>\n",
       "      <td>0.007605</td>\n",
       "      <td>0.024907</td>\n",
       "      <td>0.016591</td>\n",
       "      <td>1</td>\n",
       "      <td>-0.622475</td>\n",
       "      <td>-0.963682</td>\n",
       "      <td>...</td>\n",
       "      <td>-2.956745</td>\n",
       "      <td>-0.640334</td>\n",
       "      <td>-2.279663</td>\n",
       "      <td>-0.950259</td>\n",
       "      <td>-4.388417</td>\n",
       "      <td>-1.669922</td>\n",
       "      <td>-3.288939</td>\n",
       "      <td>-1.336142</td>\n",
       "      <td>-2.814239</td>\n",
       "      <td>2390488</td>\n",
       "    </tr>\n",
       "    <tr>\n",
       "      <th>1862595</th>\n",
       "      <td>499</td>\n",
       "      <td>0.283405</td>\n",
       "      <td>-0.000156</td>\n",
       "      <td>-0.000156</td>\n",
       "      <td>-0.001375</td>\n",
       "      <td>-0.003702</td>\n",
       "      <td>-0.002004</td>\n",
       "      <td>-1</td>\n",
       "      <td>-1.463757</td>\n",
       "      <td>-1.107228</td>\n",
       "      <td>...</td>\n",
       "      <td>-2.035894</td>\n",
       "      <td>-1.780962</td>\n",
       "      <td>0.881246</td>\n",
       "      <td>-2.202140</td>\n",
       "      <td>-1.912601</td>\n",
       "      <td>-3.341684</td>\n",
       "      <td>-0.571188</td>\n",
       "      <td>-2.185795</td>\n",
       "      <td>0.627452</td>\n",
       "      <td>2390489</td>\n",
       "    </tr>\n",
       "    <tr>\n",
       "      <th>1862596</th>\n",
       "      <td>499</td>\n",
       "      <td>0.000000</td>\n",
       "      <td>-0.001855</td>\n",
       "      <td>-0.001855</td>\n",
       "      <td>-0.001194</td>\n",
       "      <td>-0.000864</td>\n",
       "      <td>-0.001905</td>\n",
       "      <td>-1</td>\n",
       "      <td>-1.817184</td>\n",
       "      <td>-1.131577</td>\n",
       "      <td>...</td>\n",
       "      <td>-0.571013</td>\n",
       "      <td>2.483421</td>\n",
       "      <td>8.284037</td>\n",
       "      <td>-0.698486</td>\n",
       "      <td>0.199953</td>\n",
       "      <td>-0.168395</td>\n",
       "      <td>2.051091</td>\n",
       "      <td>1.726072</td>\n",
       "      <td>5.823676</td>\n",
       "      <td>2390490</td>\n",
       "    </tr>\n",
       "  </tbody>\n",
       "</table>\n",
       "<p>1862597 rows × 138 columns</p>\n",
       "</div>"
      ],
      "text/plain": [
       "         date    weight    resp_1    resp_2    resp_3    resp_4      resp  \\\n",
       "0          86  0.859516 -0.003656 -0.005449 -0.017403 -0.028896 -0.021435   \n",
       "1          86  0.000000 -0.009107 -0.013542 -0.022222 -0.032522 -0.026394   \n",
       "2          86  0.590949  0.000347 -0.000376 -0.004051 -0.007995 -0.004743   \n",
       "3          86  0.172997  0.000168  0.000333 -0.002375 -0.003064  0.001527   \n",
       "4          86  0.000000  0.000503  0.000589 -0.001587 -0.002665 -0.000139   \n",
       "...       ...       ...       ...       ...       ...       ...       ...   \n",
       "1862592   499  0.000000  0.000142  0.000142  0.005829  0.020342  0.015396   \n",
       "1862593   499  0.000000  0.000012  0.000012 -0.000935 -0.006326 -0.004718   \n",
       "1862594   499  0.000000  0.000499  0.000499  0.007605  0.024907  0.016591   \n",
       "1862595   499  0.283405 -0.000156 -0.000156 -0.001375 -0.003702 -0.002004   \n",
       "1862596   499  0.000000 -0.001855 -0.001855 -0.001194 -0.000864 -0.001905   \n",
       "\n",
       "         feature_0  feature_1  feature_2  ...  feature_121  feature_122  \\\n",
       "0                1   3.151305   5.467693  ...          NaN     2.433699   \n",
       "1                1   2.249176   2.618401  ...          NaN     2.053416   \n",
       "2               -1  -0.365888   0.824004  ...          NaN    -0.702873   \n",
       "3                1   1.514607   0.596214  ...          NaN     2.304354   \n",
       "4               -1  -1.158576  -0.146579  ...          NaN    -1.364269   \n",
       "...            ...        ...        ...  ...          ...          ...   \n",
       "1862592          1  -1.649365  -1.169996  ...    -1.896874    -1.260055   \n",
       "1862593          1   2.432943   5.284504  ...    -0.936553     1.064936   \n",
       "1862594          1  -0.622475  -0.963682  ...    -2.956745    -0.640334   \n",
       "1862595         -1  -1.463757  -1.107228  ...    -2.035894    -1.780962   \n",
       "1862596         -1  -1.817184  -1.131577  ...    -0.571013     2.483421   \n",
       "\n",
       "         feature_123  feature_124  feature_125  feature_126  feature_127  \\\n",
       "0           4.282284     1.621115     4.331030     2.553220     3.799011   \n",
       "1          -0.493276     1.661974    -1.082122     2.427706    -0.756115   \n",
       "2           4.038753    -0.789767     4.133183    -1.207878     3.402796   \n",
       "3           1.530169     3.596848     4.613493     4.516110     3.341374   \n",
       "4           2.006926    -1.237922     2.124396    -2.005723     1.716914   \n",
       "...              ...          ...          ...          ...          ...   \n",
       "1862592     1.947725    -1.994399    -1.685163    -2.866165    -0.216130   \n",
       "1862593     3.119762    -0.419796    -0.208975    -0.146749     0.730166   \n",
       "1862594    -2.279663    -0.950259    -4.388417    -1.669922    -3.288939   \n",
       "1862595     0.881246    -2.202140    -1.912601    -3.341684    -0.571188   \n",
       "1862596     8.284037    -0.698486     0.199953    -0.168395     2.051091   \n",
       "\n",
       "         feature_128  feature_129    ts_id  \n",
       "0           2.642943     3.998054   527894  \n",
       "1           2.210572    -0.639075   527895  \n",
       "2          -0.928290     3.511141   527896  \n",
       "3           2.635798     1.535235   527897  \n",
       "4          -1.646484     1.795211   527898  \n",
       "...              ...          ...      ...  \n",
       "1862592    -1.892048     0.901585  2390486  \n",
       "1862593     0.648452     2.068737  2390487  \n",
       "1862594    -1.336142    -2.814239  2390488  \n",
       "1862595    -2.185795     0.627452  2390489  \n",
       "1862596     1.726072     5.823676  2390490  \n",
       "\n",
       "[1862597 rows x 138 columns]"
      ]
     },
     "execution_count": 19,
     "metadata": {},
     "output_type": "execute_result"
    }
   ],
   "source": [
    "df.query('date > 85').reset_index(drop = True) "
   ]
  },
  {
   "cell_type": "code",
   "execution_count": 23,
   "metadata": {},
   "outputs": [],
   "source": [
    "df['action'] = (df['resp'] > 0) * 1"
   ]
  },
  {
   "cell_type": "code",
   "execution_count": 78,
   "metadata": {},
   "outputs": [
    {
     "ename": "NameError",
     "evalue": "name 'df' is not defined",
     "output_type": "error",
     "traceback": [
      "\u001b[0;31m---------------------------------------------------------------------------\u001b[0m",
      "\u001b[0;31mNameError\u001b[0m                                 Traceback (most recent call last)",
      "\u001b[0;32m<ipython-input-78-3a52fa01bf43>\u001b[0m in \u001b[0;36m<module>\u001b[0;34m\u001b[0m\n\u001b[0;32m----> 1\u001b[0;31m trades = pd.pivot_table(df, index='date', values='action',\n\u001b[0m\u001b[1;32m      2\u001b[0m            aggfunc={'action':[np.sum, np.mean]},fill_value=0)\n",
      "\u001b[0;31mNameError\u001b[0m: name 'df' is not defined"
     ]
    }
   ],
   "source": [
    "trades = pd.pivot_table(df, index='date', values='action',\n",
    "           aggfunc={'action':[np.sum, np.mean]},fill_value=0)"
   ]
  },
  {
   "cell_type": "code",
   "execution_count": 39,
   "metadata": {},
   "outputs": [
    {
     "data": {
      "text/plain": [
       "0.5041644241329167"
      ]
     },
     "execution_count": 39,
     "metadata": {},
     "output_type": "execute_result"
    }
   ],
   "source": [
    "#np.std(trades['mean'])\n",
    "trades['mean'].mean()"
   ]
  },
  {
   "cell_type": "code",
   "execution_count": 40,
   "metadata": {},
   "outputs": [
    {
     "data": {
      "text/plain": [
       "0.025218167900784832"
      ]
     },
     "execution_count": 40,
     "metadata": {},
     "output_type": "execute_result"
    }
   ],
   "source": [
    "trades['mean'].std()"
   ]
  },
  {
   "cell_type": "code",
   "execution_count": 41,
   "metadata": {},
   "outputs": [
    {
     "name": "stdout",
     "output_type": "stream",
     "text": [
      "Collecting statsmodels\n",
      "  Downloading statsmodels-0.12.1-cp38-cp38-manylinux1_x86_64.whl (9.5 MB)\n",
      "\u001b[K     |████████████████████████████████| 9.5 MB 7.6 MB/s eta 0:00:01\n",
      "\u001b[?25hRequirement already satisfied: numpy>=1.15 in /home/x99e/anaconda3/envs/kaggle_tf/lib/python3.8/site-packages (from statsmodels) (1.19.5)\n",
      "Requirement already satisfied: pandas>=0.21 in /home/x99e/anaconda3/envs/kaggle_tf/lib/python3.8/site-packages (from statsmodels) (1.2.0)\n",
      "Requirement already satisfied: scipy>=1.1 in /home/x99e/anaconda3/envs/kaggle_tf/lib/python3.8/site-packages (from statsmodels) (1.6.0)\n",
      "Requirement already satisfied: pytz>=2017.3 in /home/x99e/anaconda3/envs/kaggle_tf/lib/python3.8/site-packages (from pandas>=0.21->statsmodels) (2020.5)\n",
      "Requirement already satisfied: python-dateutil>=2.7.3 in /home/x99e/anaconda3/envs/kaggle_tf/lib/python3.8/site-packages (from pandas>=0.21->statsmodels) (2.8.1)\n",
      "Collecting patsy>=0.5\n",
      "  Downloading patsy-0.5.1-py2.py3-none-any.whl (231 kB)\n",
      "\u001b[K     |████████████████████████████████| 231 kB 3.5 MB/s eta 0:00:01\n",
      "\u001b[?25hRequirement already satisfied: six in /home/x99e/anaconda3/envs/kaggle_tf/lib/python3.8/site-packages (from patsy>=0.5->statsmodels) (1.15.0)\n",
      "Installing collected packages: patsy, statsmodels\n",
      "Successfully installed patsy-0.5.1 statsmodels-0.12.1\n"
     ]
    }
   ],
   "source": [
    "!pip install statsmodels"
   ]
  },
  {
   "cell_type": "code",
   "execution_count": 42,
   "metadata": {},
   "outputs": [
    {
     "data": {
      "image/png": "[encoded data removed]",
      "text/plain": [
       "<Figure size 432x288 with 1 Axes>"
      ]
     },
     "metadata": {
      "needs_background": "light"
     },
     "output_type": "display_data"
    }
   ],
   "source": [
    "\n",
    "from matplotlib import pyplot\n",
    "from statsmodels.graphics.tsaplots import plot_acf\n",
    "\n",
    "plot_acf(trades['mean'])\n",
    "pyplot.show()"
   ]
  },
  {
   "cell_type": "code",
   "execution_count": 45,
   "metadata": {},
   "outputs": [
    {
     "data": {
      "text/plain": [
       "<AxesSubplot:xlabel='date'>"
      ]
     },
     "execution_count": 45,
     "metadata": {},
     "output_type": "execute_result"
    },
    {
     "data": {
      "image/png": "[encoded data removed]",
      "text/plain": [
       "<Figure size 432x288 with 1 Axes>"
      ]
     },
     "metadata": {
      "needs_background": "light"
     },
     "output_type": "display_data"
    }
   ],
   "source": [
    "trades['mean'].plot()"
   ]
  },
  {
   "cell_type": "code",
   "execution_count": 49,
   "metadata": {},
   "outputs": [
    {
     "data": {
      "image/png": "[encoded data removed]",
      "text/plain": [
       "<Figure size 432x288 with 1 Axes>"
      ]
     },
     "metadata": {
      "needs_background": "light"
     },
     "output_type": "display_data"
    }
   ],
   "source": [
    "plot_acf(df['action'])\n",
    "pyplot.show()"
   ]
  },
  {
   "cell_type": "code",
   "execution_count": 79,
   "metadata": {},
   "outputs": [
    {
     "ename": "AttributeError",
     "evalue": "module 'statsmodels' has no attribute 'tsa'",
     "output_type": "error",
     "traceback": [
      "\u001b[0;31m---------------------------------------------------------------------------\u001b[0m",
      "\u001b[0;31mAttributeError\u001b[0m                            Traceback (most recent call last)",
      "\u001b[0;32m<ipython-input-79-c733ea7ff881>\u001b[0m in \u001b[0;36m<module>\u001b[0;34m\u001b[0m\n\u001b[1;32m      1\u001b[0m \u001b[0;32mimport\u001b[0m \u001b[0mstatsmodels\u001b[0m\u001b[0;34m\u001b[0m\u001b[0;34m\u001b[0m\u001b[0m\n\u001b[0;32m----> 2\u001b[0;31m \u001b[0macf\u001b[0m \u001b[0;34m=\u001b[0m \u001b[0mstatsmodels\u001b[0m\u001b[0;34m.\u001b[0m\u001b[0mtsa\u001b[0m\u001b[0;34m.\u001b[0m\u001b[0mstattools\u001b[0m\u001b[0;34m.\u001b[0m\u001b[0macf\u001b[0m\u001b[0;34m(\u001b[0m\u001b[0mtrain\u001b[0m\u001b[0;34m[\u001b[0m\u001b[0;34m'action'\u001b[0m\u001b[0;34m]\u001b[0m\u001b[0;34m,\u001b[0m \u001b[0mfft\u001b[0m \u001b[0;34m=\u001b[0m\u001b[0;32mTrue\u001b[0m\u001b[0;34m)\u001b[0m\u001b[0;34m\u001b[0m\u001b[0;34m\u001b[0m\u001b[0m\n\u001b[0m",
      "\u001b[0;31mAttributeError\u001b[0m: module 'statsmodels' has no attribute 'tsa'"
     ]
    }
   ],
   "source": [
    "import statsmodels\n",
    "acf = statsmodels.tsa.stattools.acf(train['action'], fft =True)"
   ]
  },
  {
   "cell_type": "code",
   "execution_count": 83,
   "metadata": {},
   "outputs": [
    {
     "data": {
      "text/plain": [
       "0.02387651985232728"
      ]
     },
     "execution_count": 83,
     "metadata": {},
     "output_type": "execute_result"
    }
   ],
   "source": [
    "train['action'].autocorr(2)"
   ]
  },
  {
   "cell_type": "code",
   "execution_count": 86,
   "metadata": {},
   "outputs": [],
   "source": [
    "resp_acf = [train['action'].autocorr(i) for i in range(1,32)]"
   ]
  },
  {
   "cell_type": "code",
   "execution_count": 87,
   "metadata": {},
   "outputs": [
    {
     "data": {
      "text/plain": [
       "[0.012150257495777384,\n",
       " 0.014863162028431274,\n",
       " 0.013626677663840698,\n",
       " 0.012121631780674172,\n",
       " 0.010228395123595026,\n",
       " 0.010167945037171828,\n",
       " 0.009098181712513915,\n",
       " 0.010367771511209753,\n",
       " 0.008759629952437578,\n",
       " 0.007054755570613224,\n",
       " 0.007635781468187949,\n",
       " 0.00762878604873154,\n",
       " 0.009095665016192746,\n",
       " 0.00662202943031397,\n",
       " 0.0072743320693831074,\n",
       " 0.007380607847204211,\n",
       " 0.006602308141266375,\n",
       " 0.007141340426825501,\n",
       " 0.005396993214397279,\n",
       " 0.008149386600898138,\n",
       " 0.007189071705626117,\n",
       " 0.005165987508430664,\n",
       " 0.006303217391923997,\n",
       " 0.006784970410215175,\n",
       " 0.004982079814075244,\n",
       " 0.007140086414810789,\n",
       " 0.006259958619565094,\n",
       " 0.005896581626518581,\n",
       " 0.005783937724186868,\n",
       " 0.00550456406570725,\n",
       " 0.005068642673217722]"
      ]
     },
     "execution_count": 87,
     "metadata": {},
     "output_type": "execute_result"
    }
   ],
   "source": [
    "resp_acf"
   ]
  },
  {
   "cell_type": "code",
   "execution_count": 4,
   "metadata": {},
   "outputs": [],
   "source": [
    "from tensorflow.keras.layers import Input, Dense, BatchNormalization, Dropout, Concatenate, Lambda, GaussianNoise, Activation\n",
    "from tensorflow.keras.models import Model, Sequential\n",
    "from tensorflow.keras.losses import BinaryCrossentropy\n",
    "from tensorflow.keras.optimizers import Adam\n",
    "from tensorflow.keras.callbacks import EarlyStopping\n",
    "from tensorflow.keras.layers.experimental.preprocessing import Normalization\n",
    "import tensorflow as tf\n",
    "import numpy as np\n",
    "import pandas as pd"
   ]
  },
  {
   "cell_type": "code",
   "execution_count": 5,
   "metadata": {},
   "outputs": [],
   "source": [
    "\n",
    "\n",
    "\n",
    "SEED = 1111\n",
    "\n",
    "tf.random.set_seed(SEED)\n",
    "np.random.seed(SEED)\n",
    "\n",
    "train = dt.fread('~/jane-street-market-prediction/train.csv').to_pandas()\n",
    "\n",
    "\n",
    "#train = pd.read_csv('~/jane-street-market-prediction/train.csv')\n",
    "train = train.query('date > 85').reset_index(drop = True) \n",
    "train = train[train['weight'] != 0]\n",
    "\n",
    "train.fillna(train.mean(),inplace=True)\n",
    "\n",
    "train['action'] = ((train['resp'].values) > 0).astype(int)\n",
    "\n",
    "\n",
    "features = [c for c in train.columns if \"feature\" in c]\n",
    "\n",
    "f_mean = np.mean(train[features[1:]].values,axis=0)\n",
    "\n",
    "X_train = train.loc[:, train.columns.str.contains('feature')]\n",
    "y_train = (train.loc[:, 'action'])\n",
    "\n"
   ]
  },
  {
   "cell_type": "code",
   "execution_count": 7,
   "metadata": {},
   "outputs": [
    {
     "data": {
      "text/plain": [
       "(1571415, 130)"
      ]
     },
     "execution_count": 7,
     "metadata": {},
     "output_type": "execute_result"
    }
   ],
   "source": [
    "X_train.shape"
   ]
  },
  {
   "cell_type": "code",
   "execution_count": 9,
   "metadata": {},
   "outputs": [
    {
     "data": {
      "text/plain": [
       "(1571415,)"
      ]
     },
     "execution_count": 9,
     "metadata": {},
     "output_type": "execute_result"
    }
   ],
   "source": [
    "y_train.shape"
   ]
  },
  {
   "cell_type": "code",
   "execution_count": 10,
   "metadata": {},
   "outputs": [
    {
     "data": {
      "text/plain": [
       "(1571415, 139)"
      ]
     },
     "execution_count": 10,
     "metadata": {},
     "output_type": "execute_result"
    }
   ],
   "source": [
    "train.shape"
   ]
  },
  {
   "cell_type": "code",
   "execution_count": 11,
   "metadata": {},
   "outputs": [],
   "source": [
    "def create_mlp(\n",
    "    num_columns, num_labels, hidden_units, dropout_rates, label_smoothing, learning_rate\n",
    "):\n",
    "\n",
    "    inp = tf.keras.layers.Input(shape=(num_columns,))\n",
    "    x = tf.keras.layers.BatchNormalization()(inp)\n",
    "    #x = tf.keras.layers.BatchNormalization()(inp)\n",
    "    x = tf.keras.layers.Dropout(dropout_rates[0])(x) #(x)\n",
    "    \n",
    "    for i in range(len(hidden_units)):\n",
    "        x = tf.keras.layers.Dense(hidden_units[i])(x)\n",
    "        x = tf.keras.layers.BatchNormalization()(x)\n",
    "        x = tf.keras.layers.Activation(tf.keras.activations.relu)(x)\n",
    "        #x = tf.keras.layers.Activation(tf.keras.activations.swish)(x)\n",
    "        x = tf.keras.layers.Dropout(dropout_rates[i + 1])(x)\n",
    "        x = tf.keras.layers.Concatenate(axis=1)([x, inp])\n",
    "        x = tf.keras.layers.BatchNormalization()(x)\n",
    "        x = tf.keras.layers.Dense(hidden_units[i])(x)\n",
    "        x = tf.keras.layers.Dropout(dropout_rates[i + 1])(x)\n",
    "\n",
    "    x = tf.keras.layers.Dense(num_labels)(x)\n",
    "    out = tf.keras.layers.Activation(\"sigmoid\")(x)\n",
    "\n",
    "    model = tf.keras.models.Model(inputs=inp, outputs=out)\n",
    "    model.compile(\n",
    "        optimizer=tf.keras.optimizers.Adam(learning_rate=learning_rate),\n",
    "        loss=tf.keras.losses.BinaryCrossentropy(label_smoothing=label_smoothing),\n",
    "        metrics=tf.keras.metrics.AUC(name=\"AUC\"),\n",
    "    )\n",
    "\n",
    "    return model"
   ]
  },
  {
   "cell_type": "code",
   "execution_count": 12,
   "metadata": {},
   "outputs": [],
   "source": [
    "def create_mlp2(\n",
    "    num_columns, num_labels, hidden_units, dropout_rates, label_smoothing, learning_rate\n",
    "):\n",
    "\n",
    "    inp = tf.keras.layers.Input(shape=(num_columns,))\n",
    "    x = tf.keras.layers.BatchNormalization()(inp)\n",
    "    #x = tf.keras.layers.BatchNormalization()(inp)\n",
    "    x = tf.keras.layers.Dropout(dropout_rates[0])(x) #(x)\n",
    "    \n",
    "    for i in range(len(hidden_units)):\n",
    "        x = tf.keras.layers.Dense(hidden_units[i])(x)\n",
    "        x = tf.keras.layers.BatchNormalization()(x)\n",
    "        x = tf.keras.layers.Activation(tf.keras.activations.swish)(x)\n",
    "        #x = tf.keras.layers.Activation(tf.keras.activations.swish)(x)\n",
    "        x = tf.keras.layers.Dropout(dropout_rates[i + 1])(x)\n",
    "        x = tf.keras.layers.Concatenate(axis=1)([x, inp])\n",
    "        x = tf.keras.layers.BatchNormalization()(x)\n",
    "        x = tf.keras.layers.Dense(hidden_units[i])(x)\n",
    "        x = tf.keras.layers.Dropout(dropout_rates[i + 1])(x)\n",
    "\n",
    "    x = tf.keras.layers.Dense(num_labels)(x)\n",
    "    out = tf.keras.layers.Activation(\"sigmoid\")(x)\n",
    "\n",
    "    model = tf.keras.models.Model(inputs=inp, outputs=out)\n",
    "    model.compile(\n",
    "        optimizer=tf.keras.optimizers.Adam(learning_rate=learning_rate),\n",
    "        loss=tf.keras.losses.BinaryCrossentropy(label_smoothing=label_smoothing),\n",
    "        metrics=tf.keras.metrics.AUC(name=\"AUC\"),\n",
    "    )\n",
    "\n",
    "    return model"
   ]
  },
  {
   "cell_type": "code",
   "execution_count": null,
   "metadata": {},
   "outputs": [],
   "source": [
    "\n",
    "\n",
    "batch_size = 5000\n",
    "hidden_units = [130, 130, 130]\n",
    "dropout_rates = [0.2, 0.2, 0.2, 0.2]\n",
    "label_smoothing = 1e-2\n",
    "learning_rate = 1e-3\n",
    "\n",
    "clf = create_mlp(\n",
    "    len(features), 1, hidden_units, dropout_rates, label_smoothing, learning_rate\n",
    "    )\n",
    "\n",
    "clf.fit(X_train, y_train, epochs=200, batch_size=20000)\n",
    "\n",
    "opt_th = 0.5000\n"
   ]
  },
  {
   "cell_type": "code",
   "execution_count": 1,
   "metadata": {},
   "outputs": [
    {
     "ename": "NameError",
     "evalue": "name 'create_mlp2' is not defined",
     "output_type": "error",
     "traceback": [
      "\u001b[0;31m---------------------------------------------------------------------------\u001b[0m",
      "\u001b[0;31mNameError\u001b[0m                                 Traceback (most recent call last)",
      "\u001b[0;32m<ipython-input-1-031d4bf763d6>\u001b[0m in \u001b[0;36m<module>\u001b[0;34m\u001b[0m\n\u001b[0;32m----> 1\u001b[0;31m clf2 = create_mlp2(\n\u001b[0m\u001b[1;32m      2\u001b[0m     \u001b[0mlen\u001b[0m\u001b[0;34m(\u001b[0m\u001b[0mfeatures\u001b[0m\u001b[0;34m)\u001b[0m\u001b[0;34m,\u001b[0m \u001b[0;36m1\u001b[0m\u001b[0;34m,\u001b[0m \u001b[0mhidden_units\u001b[0m\u001b[0;34m,\u001b[0m \u001b[0mdropout_rates\u001b[0m\u001b[0;34m,\u001b[0m \u001b[0mlabel_smoothing\u001b[0m\u001b[0;34m,\u001b[0m \u001b[0mlearning_rate\u001b[0m\u001b[0;34m\u001b[0m\u001b[0;34m\u001b[0m\u001b[0m\n\u001b[1;32m      3\u001b[0m     )\n\u001b[1;32m      4\u001b[0m \u001b[0;34m\u001b[0m\u001b[0m\n\u001b[1;32m      5\u001b[0m \u001b[0mclf2\u001b[0m\u001b[0;34m.\u001b[0m\u001b[0mfit\u001b[0m\u001b[0;34m(\u001b[0m\u001b[0mX_train\u001b[0m\u001b[0;34m,\u001b[0m \u001b[0my_train\u001b[0m\u001b[0;34m,\u001b[0m \u001b[0mepochs\u001b[0m\u001b[0;34m=\u001b[0m\u001b[0;36m200\u001b[0m\u001b[0;34m,\u001b[0m \u001b[0mbatch_size\u001b[0m\u001b[0;34m=\u001b[0m\u001b[0;36m20000\u001b[0m\u001b[0;34m)\u001b[0m\u001b[0;34m\u001b[0m\u001b[0;34m\u001b[0m\u001b[0m\n",
      "\u001b[0;31mNameError\u001b[0m: name 'create_mlp2' is not defined"
     ]
    }
   ],
   "source": [
    "clf2 = create_mlp2(\n",
    "    len(features), 1, hidden_units, dropout_rates, label_smoothing, learning_rate\n",
    "    )\n",
    "\n",
    "clf2.fit(X_train, y_train, epochs=200, batch_size=20000)\n"
   ]
  },
  {
   "cell_type": "code",
   "execution_count": 62,
   "metadata": {},
   "outputs": [],
   "source": [
    "from math import sqrt\n",
    "\n",
    "def utility_score(df):\n",
    "    \"\"\"Calculate utility score of a dataframe according to formulas defined at\n",
    "    https://www.kaggle.com/c/jane-street-market-prediction/overview/evaluation\n",
    "    \"\"\"\n",
    "\n",
    "    df['p'] = df['weight']  * df['resp'] * df['action']\n",
    "    p_i = df.set_index('date')['p'].groupby('date').sum()\n",
    "    t = (p_i.sum() / sqrt((p_i**2).sum())) * (sqrt(250 / p_i.index.size))\n",
    "    return min(max(t, 0), 6) * p_i.sum()"
   ]
  },
  {
   "cell_type": "code",
   "execution_count": null,
   "metadata": {},
   "outputs": [],
   "source": [
    "\n",
    "\n",
    "import janestreet\n",
    "\n",
    "env = janestreet.make_env()\n",
    "env_iter = env.iter_test()\n",
    "\n",
    "for test_df, pred_df in env_iter:\n",
    "    if test_df[\"weight\"].item() > 0:\n",
    "        x_tt = test_df.loc[:, features].values\n",
    "        if np.isnan(x_tt[:, 1:].sum()):\n",
    "            x_tt[:, 1:] = np.nan_to_num(x_tt[:, 1:]) + np.isnan(x_tt[:, 1:]) * f_mean\n",
    "        pred = clf(x_tt, training=False).numpy().item()\n",
    "        pred_df.action = np.where(pred >= opt_th, 1, 0).astype(int)\n",
    "    else:\n",
    "        pred_df.action = 0\n",
    "    env.predict(pred_df)"
   ]
  },
  {
   "cell_type": "code",
   "execution_count": 116,
   "metadata": {},
   "outputs": [],
   "source": [
    "preds = clf(X_train.values, training=False)\n",
    "train"
   ]
  },
  {
   "cell_type": "code",
   "execution_count": 10,
   "metadata": {},
   "outputs": [],
   "source": [
    "\n",
    "\n",
    "test = dt.fread('~/jane-street-market-prediction/example_test.csv').to_pandas()\n",
    "\n",
    "\n",
    "\n"
   ]
  },
  {
   "cell_type": "code",
   "execution_count": null,
   "metadata": {},
   "outputs": [],
   "source": [
    "pred_df = train[['date', 'resp','weight']]\n",
    "pred_df['action'] = preds\n",
    "\n"
   ]
  },
  {
   "cell_type": "code",
   "execution_count": 14,
   "metadata": {},
   "outputs": [],
   "source": [
    "x_tt = test.loc[:, features].values\n",
    "if np.isnan(x_tt[:, 1:].sum()):\n",
    "            x_tt[:, 1:] = np.nan_to_num(x_tt[:, 1:]) + np.isnan(x_tt[:, 1:]) * f_mean"
   ]
  },
  {
   "cell_type": "code",
   "execution_count": 18,
   "metadata": {},
   "outputs": [
    {
     "data": {
      "text/plain": [
       "(15219, 130)"
      ]
     },
     "execution_count": 18,
     "metadata": {},
     "output_type": "execute_result"
    }
   ],
   "source": [
    "x_tt.shape\n"
   ]
  },
  {
   "cell_type": "code",
   "execution_count": 24,
   "metadata": {},
   "outputs": [],
   "source": [
    "\n",
    "pred = clf(x_tt, training=False).numpy"
   ]
  },
  {
   "cell_type": "code",
   "execution_count": 20,
   "metadata": {},
   "outputs": [
    {
     "data": {
      "text/plain": [
       "<bound method _EagerTensorBase.numpy of <tf.Tensor: shape=(15219, 1), dtype=float32, numpy=\n",
       "array([[0.5038372 ],\n",
       "       [0.5121065 ],\n",
       "       [0.5251299 ],\n",
       "       ...,\n",
       "       [0.52471834],\n",
       "       [0.4686279 ],\n",
       "       [0.5610788 ]], dtype=float32)>>"
      ]
     },
     "execution_count": 20,
     "metadata": {},
     "output_type": "execute_result"
    }
   ],
   "source": []
  },
  {
   "cell_type": "code",
   "execution_count": 54,
   "metadata": {},
   "outputs": [],
   "source": [
    "pred_df = train[['date', 'resp','weight']]"
   ]
  },
  {
   "cell_type": "code",
   "execution_count": 55,
   "metadata": {},
   "outputs": [
    {
     "data": {
      "text/plain": [
       "0          False\n",
       "2          False\n",
       "3           True\n",
       "6          False\n",
       "7           True\n",
       "           ...  \n",
       "1862550    False\n",
       "1862552    False\n",
       "1862584    False\n",
       "1862587    False\n",
       "1862595    False\n",
       "Name: resp, Length: 1571415, dtype: bool"
      ]
     },
     "execution_count": 55,
     "metadata": {},
     "output_type": "execute_result"
    }
   ],
   "source": [
    "pred_df['resp'] >= 0\n"
   ]
  },
  {
   "cell_type": "code",
   "execution_count": 60,
   "metadata": {},
   "outputs": [
    {
     "name": "stderr",
     "output_type": "stream",
     "text": [
      "<ipython-input-60-7ab6d9e05eb9>:1: SettingWithCopyWarning: \n",
      "A value is trying to be set on a copy of a slice from a DataFrame.\n",
      "Try using .loc[row_indexer,col_indexer] = value instead\n",
      "\n",
      "See the caveats in the documentation: https://pandas.pydata.org/pandas-docs/stable/user_guide/indexing.html#returning-a-view-versus-a-copy\n",
      "  pred_df['action'] =  (pred_df['resp']  >= 0)\n"
     ]
    }
   ],
   "source": [
    "pred_df['action'] =  (pred_df['resp']  >= 0)\n"
   ]
  },
  {
   "cell_type": "code",
   "execution_count": 61,
   "metadata": {},
   "outputs": [
    {
     "data": {
      "text/html": [
       "<div>\n",
       "<style scoped>\n",
       "    .dataframe tbody tr th:only-of-type {\n",
       "        vertical-align: middle;\n",
       "    }\n",
       "\n",
       "    .dataframe tbody tr th {\n",
       "        vertical-align: top;\n",
       "    }\n",
       "\n",
       "    .dataframe thead th {\n",
       "        text-align: right;\n",
       "    }\n",
       "</style>\n",
       "<table border=\"1\" class=\"dataframe\">\n",
       "  <thead>\n",
       "    <tr style=\"text-align: right;\">\n",
       "      <th></th>\n",
       "      <th>date</th>\n",
       "      <th>resp</th>\n",
       "      <th>weight</th>\n",
       "      <th>action</th>\n",
       "    </tr>\n",
       "  </thead>\n",
       "  <tbody>\n",
       "    <tr>\n",
       "      <th>0</th>\n",
       "      <td>86.0</td>\n",
       "      <td>-0.021435</td>\n",
       "      <td>0.859516</td>\n",
       "      <td>False</td>\n",
       "    </tr>\n",
       "    <tr>\n",
       "      <th>2</th>\n",
       "      <td>86.0</td>\n",
       "      <td>-0.004743</td>\n",
       "      <td>0.590949</td>\n",
       "      <td>False</td>\n",
       "    </tr>\n",
       "    <tr>\n",
       "      <th>3</th>\n",
       "      <td>86.0</td>\n",
       "      <td>0.001527</td>\n",
       "      <td>0.172997</td>\n",
       "      <td>True</td>\n",
       "    </tr>\n",
       "    <tr>\n",
       "      <th>6</th>\n",
       "      <td>86.0</td>\n",
       "      <td>-0.001663</td>\n",
       "      <td>1.507813</td>\n",
       "      <td>False</td>\n",
       "    </tr>\n",
       "    <tr>\n",
       "      <th>7</th>\n",
       "      <td>86.0</td>\n",
       "      <td>0.017121</td>\n",
       "      <td>5.554003</td>\n",
       "      <td>True</td>\n",
       "    </tr>\n",
       "  </tbody>\n",
       "</table>\n",
       "</div>"
      ],
      "text/plain": [
       "   date      resp    weight  action\n",
       "0  86.0 -0.021435  0.859516   False\n",
       "2  86.0 -0.004743  0.590949   False\n",
       "3  86.0  0.001527  0.172997    True\n",
       "6  86.0 -0.001663  1.507813   False\n",
       "7  86.0  0.017121  5.554003    True"
      ]
     },
     "execution_count": 61,
     "metadata": {},
     "output_type": "execute_result"
    }
   ],
   "source": [
    "pred_df.head()"
   ]
  },
  {
   "cell_type": "code",
   "execution_count": 63,
   "metadata": {},
   "outputs": [
    {
     "name": "stderr",
     "output_type": "stream",
     "text": [
      "<ipython-input-62-dc2694230efd>:8: SettingWithCopyWarning: \n",
      "A value is trying to be set on a copy of a slice from a DataFrame.\n",
      "Try using .loc[row_indexer,col_indexer] = value instead\n",
      "\n",
      "See the caveats in the documentation: https://pandas.pydata.org/pandas-docs/stable/user_guide/indexing.html#returning-a-view-versus-a-copy\n",
      "  df['p'] = df['weight']  * df['resp'] * df['action']\n"
     ]
    },
    {
     "data": {
      "text/plain": [
       "173797.76047460196"
      ]
     },
     "execution_count": 63,
     "metadata": {},
     "output_type": "execute_result"
    }
   ],
   "source": [
    "utility_score(pred_df)"
   ]
  },
  {
   "cell_type": "code",
   "execution_count": 100,
   "metadata": {},
   "outputs": [
    {
     "name": "stderr",
     "output_type": "stream",
     "text": [
      "<ipython-input-100-5bbefd95825d>:4: SettingWithCopyWarning: \n",
      "A value is trying to be set on a copy of a slice from a DataFrame.\n",
      "Try using .loc[row_indexer,col_indexer] = value instead\n",
      "\n",
      "See the caveats in the documentation: https://pandas.pydata.org/pandas-docs/stable/user_guide/indexing.html#returning-a-view-versus-a-copy\n",
      "  pred_df['action']  = 0\n",
      "<ipython-input-100-5bbefd95825d>:5: SettingWithCopyWarning: \n",
      "A value is trying to be set on a copy of a slice from a DataFrame.\n",
      "Try using .loc[row_indexer,col_indexer] = value instead\n",
      "\n",
      "See the caveats in the documentation: https://pandas.pydata.org/pandas-docs/stable/user_guide/indexing.html#returning-a-view-versus-a-copy\n",
      "  pred_df['action'] =  (pred_df['resp']  >= thres)* 1\n",
      "<ipython-input-62-dc2694230efd>:8: SettingWithCopyWarning: \n",
      "A value is trying to be set on a copy of a slice from a DataFrame.\n",
      "Try using .loc[row_indexer,col_indexer] = value instead\n",
      "\n",
      "See the caveats in the documentation: https://pandas.pydata.org/pandas-docs/stable/user_guide/indexing.html#returning-a-view-versus-a-copy\n",
      "  df['p'] = df['weight']  * df['resp'] * df['action']\n",
      "<ipython-input-100-5bbefd95825d>:4: SettingWithCopyWarning: \n",
      "A value is trying to be set on a copy of a slice from a DataFrame.\n",
      "Try using .loc[row_indexer,col_indexer] = value instead\n",
      "\n",
      "See the caveats in the documentation: https://pandas.pydata.org/pandas-docs/stable/user_guide/indexing.html#returning-a-view-versus-a-copy\n",
      "  pred_df['action']  = 0\n",
      "<ipython-input-100-5bbefd95825d>:5: SettingWithCopyWarning: \n",
      "A value is trying to be set on a copy of a slice from a DataFrame.\n",
      "Try using .loc[row_indexer,col_indexer] = value instead\n",
      "\n",
      "See the caveats in the documentation: https://pandas.pydata.org/pandas-docs/stable/user_guide/indexing.html#returning-a-view-versus-a-copy\n",
      "  pred_df['action'] =  (pred_df['resp']  >= thres)* 1\n",
      "<ipython-input-62-dc2694230efd>:8: SettingWithCopyWarning: \n",
      "A value is trying to be set on a copy of a slice from a DataFrame.\n",
      "Try using .loc[row_indexer,col_indexer] = value instead\n",
      "\n",
      "See the caveats in the documentation: https://pandas.pydata.org/pandas-docs/stable/user_guide/indexing.html#returning-a-view-versus-a-copy\n",
      "  df['p'] = df['weight']  * df['resp'] * df['action']\n",
      "<ipython-input-100-5bbefd95825d>:4: SettingWithCopyWarning: \n",
      "A value is trying to be set on a copy of a slice from a DataFrame.\n",
      "Try using .loc[row_indexer,col_indexer] = value instead\n",
      "\n",
      "See the caveats in the documentation: https://pandas.pydata.org/pandas-docs/stable/user_guide/indexing.html#returning-a-view-versus-a-copy\n",
      "  pred_df['action']  = 0\n",
      "<ipython-input-100-5bbefd95825d>:5: SettingWithCopyWarning: \n",
      "A value is trying to be set on a copy of a slice from a DataFrame.\n",
      "Try using .loc[row_indexer,col_indexer] = value instead\n",
      "\n",
      "See the caveats in the documentation: https://pandas.pydata.org/pandas-docs/stable/user_guide/indexing.html#returning-a-view-versus-a-copy\n",
      "  pred_df['action'] =  (pred_df['resp']  >= thres)* 1\n",
      "<ipython-input-62-dc2694230efd>:8: SettingWithCopyWarning: \n",
      "A value is trying to be set on a copy of a slice from a DataFrame.\n",
      "Try using .loc[row_indexer,col_indexer] = value instead\n",
      "\n",
      "See the caveats in the documentation: https://pandas.pydata.org/pandas-docs/stable/user_guide/indexing.html#returning-a-view-versus-a-copy\n",
      "  df['p'] = df['weight']  * df['resp'] * df['action']\n",
      "<ipython-input-100-5bbefd95825d>:4: SettingWithCopyWarning: \n",
      "A value is trying to be set on a copy of a slice from a DataFrame.\n",
      "Try using .loc[row_indexer,col_indexer] = value instead\n",
      "\n",
      "See the caveats in the documentation: https://pandas.pydata.org/pandas-docs/stable/user_guide/indexing.html#returning-a-view-versus-a-copy\n",
      "  pred_df['action']  = 0\n",
      "<ipython-input-100-5bbefd95825d>:5: SettingWithCopyWarning: \n",
      "A value is trying to be set on a copy of a slice from a DataFrame.\n",
      "Try using .loc[row_indexer,col_indexer] = value instead\n",
      "\n",
      "See the caveats in the documentation: https://pandas.pydata.org/pandas-docs/stable/user_guide/indexing.html#returning-a-view-versus-a-copy\n",
      "  pred_df['action'] =  (pred_df['resp']  >= thres)* 1\n",
      "<ipython-input-62-dc2694230efd>:8: SettingWithCopyWarning: \n",
      "A value is trying to be set on a copy of a slice from a DataFrame.\n",
      "Try using .loc[row_indexer,col_indexer] = value instead\n",
      "\n",
      "See the caveats in the documentation: https://pandas.pydata.org/pandas-docs/stable/user_guide/indexing.html#returning-a-view-versus-a-copy\n",
      "  df['p'] = df['weight']  * df['resp'] * df['action']\n",
      "<ipython-input-100-5bbefd95825d>:4: SettingWithCopyWarning: \n",
      "A value is trying to be set on a copy of a slice from a DataFrame.\n",
      "Try using .loc[row_indexer,col_indexer] = value instead\n",
      "\n",
      "See the caveats in the documentation: https://pandas.pydata.org/pandas-docs/stable/user_guide/indexing.html#returning-a-view-versus-a-copy\n",
      "  pred_df['action']  = 0\n",
      "<ipython-input-100-5bbefd95825d>:5: SettingWithCopyWarning: \n",
      "A value is trying to be set on a copy of a slice from a DataFrame.\n",
      "Try using .loc[row_indexer,col_indexer] = value instead\n",
      "\n",
      "See the caveats in the documentation: https://pandas.pydata.org/pandas-docs/stable/user_guide/indexing.html#returning-a-view-versus-a-copy\n",
      "  pred_df['action'] =  (pred_df['resp']  >= thres)* 1\n",
      "<ipython-input-62-dc2694230efd>:8: SettingWithCopyWarning: \n",
      "A value is trying to be set on a copy of a slice from a DataFrame.\n",
      "Try using .loc[row_indexer,col_indexer] = value instead\n",
      "\n",
      "See the caveats in the documentation: https://pandas.pydata.org/pandas-docs/stable/user_guide/indexing.html#returning-a-view-versus-a-copy\n",
      "  df['p'] = df['weight']  * df['resp'] * df['action']\n",
      "<ipython-input-100-5bbefd95825d>:4: SettingWithCopyWarning: \n",
      "A value is trying to be set on a copy of a slice from a DataFrame.\n",
      "Try using .loc[row_indexer,col_indexer] = value instead\n",
      "\n",
      "See the caveats in the documentation: https://pandas.pydata.org/pandas-docs/stable/user_guide/indexing.html#returning-a-view-versus-a-copy\n",
      "  pred_df['action']  = 0\n",
      "<ipython-input-100-5bbefd95825d>:5: SettingWithCopyWarning: \n",
      "A value is trying to be set on a copy of a slice from a DataFrame.\n",
      "Try using .loc[row_indexer,col_indexer] = value instead\n",
      "\n",
      "See the caveats in the documentation: https://pandas.pydata.org/pandas-docs/stable/user_guide/indexing.html#returning-a-view-versus-a-copy\n",
      "  pred_df['action'] =  (pred_df['resp']  >= thres)* 1\n",
      "<ipython-input-62-dc2694230efd>:8: SettingWithCopyWarning: \n",
      "A value is trying to be set on a copy of a slice from a DataFrame.\n",
      "Try using .loc[row_indexer,col_indexer] = value instead\n",
      "\n",
      "See the caveats in the documentation: https://pandas.pydata.org/pandas-docs/stable/user_guide/indexing.html#returning-a-view-versus-a-copy\n",
      "  df['p'] = df['weight']  * df['resp'] * df['action']\n",
      "<ipython-input-100-5bbefd95825d>:4: SettingWithCopyWarning: \n",
      "A value is trying to be set on a copy of a slice from a DataFrame.\n",
      "Try using .loc[row_indexer,col_indexer] = value instead\n",
      "\n",
      "See the caveats in the documentation: https://pandas.pydata.org/pandas-docs/stable/user_guide/indexing.html#returning-a-view-versus-a-copy\n",
      "  pred_df['action']  = 0\n",
      "<ipython-input-100-5bbefd95825d>:5: SettingWithCopyWarning: \n",
      "A value is trying to be set on a copy of a slice from a DataFrame.\n",
      "Try using .loc[row_indexer,col_indexer] = value instead\n",
      "\n",
      "See the caveats in the documentation: https://pandas.pydata.org/pandas-docs/stable/user_guide/indexing.html#returning-a-view-versus-a-copy\n",
      "  pred_df['action'] =  (pred_df['resp']  >= thres)* 1\n",
      "<ipython-input-62-dc2694230efd>:8: SettingWithCopyWarning: \n",
      "A value is trying to be set on a copy of a slice from a DataFrame.\n",
      "Try using .loc[row_indexer,col_indexer] = value instead\n",
      "\n",
      "See the caveats in the documentation: https://pandas.pydata.org/pandas-docs/stable/user_guide/indexing.html#returning-a-view-versus-a-copy\n",
      "  df['p'] = df['weight']  * df['resp'] * df['action']\n",
      "<ipython-input-100-5bbefd95825d>:4: SettingWithCopyWarning: \n",
      "A value is trying to be set on a copy of a slice from a DataFrame.\n",
      "Try using .loc[row_indexer,col_indexer] = value instead\n",
      "\n",
      "See the caveats in the documentation: https://pandas.pydata.org/pandas-docs/stable/user_guide/indexing.html#returning-a-view-versus-a-copy\n",
      "  pred_df['action']  = 0\n",
      "<ipython-input-100-5bbefd95825d>:5: SettingWithCopyWarning: \n",
      "A value is trying to be set on a copy of a slice from a DataFrame.\n",
      "Try using .loc[row_indexer,col_indexer] = value instead\n",
      "\n",
      "See the caveats in the documentation: https://pandas.pydata.org/pandas-docs/stable/user_guide/indexing.html#returning-a-view-versus-a-copy\n",
      "  pred_df['action'] =  (pred_df['resp']  >= thres)* 1\n",
      "<ipython-input-62-dc2694230efd>:8: SettingWithCopyWarning: \n",
      "A value is trying to be set on a copy of a slice from a DataFrame.\n",
      "Try using .loc[row_indexer,col_indexer] = value instead\n",
      "\n",
      "See the caveats in the documentation: https://pandas.pydata.org/pandas-docs/stable/user_guide/indexing.html#returning-a-view-versus-a-copy\n",
      "  df['p'] = df['weight']  * df['resp'] * df['action']\n"
     ]
    },
    {
     "name": "stderr",
     "output_type": "stream",
     "text": [
      "<ipython-input-100-5bbefd95825d>:4: SettingWithCopyWarning: \n",
      "A value is trying to be set on a copy of a slice from a DataFrame.\n",
      "Try using .loc[row_indexer,col_indexer] = value instead\n",
      "\n",
      "See the caveats in the documentation: https://pandas.pydata.org/pandas-docs/stable/user_guide/indexing.html#returning-a-view-versus-a-copy\n",
      "  pred_df['action']  = 0\n",
      "<ipython-input-100-5bbefd95825d>:5: SettingWithCopyWarning: \n",
      "A value is trying to be set on a copy of a slice from a DataFrame.\n",
      "Try using .loc[row_indexer,col_indexer] = value instead\n",
      "\n",
      "See the caveats in the documentation: https://pandas.pydata.org/pandas-docs/stable/user_guide/indexing.html#returning-a-view-versus-a-copy\n",
      "  pred_df['action'] =  (pred_df['resp']  >= thres)* 1\n",
      "<ipython-input-62-dc2694230efd>:8: SettingWithCopyWarning: \n",
      "A value is trying to be set on a copy of a slice from a DataFrame.\n",
      "Try using .loc[row_indexer,col_indexer] = value instead\n",
      "\n",
      "See the caveats in the documentation: https://pandas.pydata.org/pandas-docs/stable/user_guide/indexing.html#returning-a-view-versus-a-copy\n",
      "  df['p'] = df['weight']  * df['resp'] * df['action']\n",
      "<ipython-input-100-5bbefd95825d>:4: SettingWithCopyWarning: \n",
      "A value is trying to be set on a copy of a slice from a DataFrame.\n",
      "Try using .loc[row_indexer,col_indexer] = value instead\n",
      "\n",
      "See the caveats in the documentation: https://pandas.pydata.org/pandas-docs/stable/user_guide/indexing.html#returning-a-view-versus-a-copy\n",
      "  pred_df['action']  = 0\n",
      "<ipython-input-100-5bbefd95825d>:5: SettingWithCopyWarning: \n",
      "A value is trying to be set on a copy of a slice from a DataFrame.\n",
      "Try using .loc[row_indexer,col_indexer] = value instead\n",
      "\n",
      "See the caveats in the documentation: https://pandas.pydata.org/pandas-docs/stable/user_guide/indexing.html#returning-a-view-versus-a-copy\n",
      "  pred_df['action'] =  (pred_df['resp']  >= thres)* 1\n",
      "<ipython-input-62-dc2694230efd>:8: SettingWithCopyWarning: \n",
      "A value is trying to be set on a copy of a slice from a DataFrame.\n",
      "Try using .loc[row_indexer,col_indexer] = value instead\n",
      "\n",
      "See the caveats in the documentation: https://pandas.pydata.org/pandas-docs/stable/user_guide/indexing.html#returning-a-view-versus-a-copy\n",
      "  df['p'] = df['weight']  * df['resp'] * df['action']\n"
     ]
    }
   ],
   "source": [
    "uscore = []\n",
    "resp_acf = []\n",
    "for thres in np.linspace(rmean-rstd,rmean+rstd,10,endpoint=False):\n",
    "    pred_df['action']  = 0\n",
    "    pred_df['action'] =  (pred_df['resp']  >= thres)* 1\n",
    "    uscore.append(utility_score(pred_df))\n",
    "    #resp_acf.append([train['action'].autocorr(i) for i in range(1,20)])"
   ]
  },
  {
   "cell_type": "code",
   "execution_count": 69,
   "metadata": {},
   "outputs": [],
   "source": [
    "rmean = pred_df['resp'].mean()\n",
    "rstd= pred_df['resp'].std()"
   ]
  },
  {
   "cell_type": "code",
   "execution_count": 101,
   "metadata": {},
   "outputs": [
    {
     "data": {
      "text/plain": [
       "[[0.012150257495777384],\n",
       " [0.012150257495777384],\n",
       " [0.012150257495777384],\n",
       " [0.012150257495777384],\n",
       " [0.012150257495777384],\n",
       " [0.012150257495777384],\n",
       " [0.012150257495777384],\n",
       " [0.012150257495777384],\n",
       " [0.012150257495777384],\n",
       " [0.012150257495777384]]"
      ]
     },
     "execution_count": 101,
     "metadata": {},
     "output_type": "execute_result"
    }
   ],
   "source": [
    "resp_acf"
   ]
  },
  {
   "cell_type": "code",
   "execution_count": 98,
   "metadata": {},
   "outputs": [
    {
     "data": {
      "text/plain": [
       "[68318.84445385226,\n",
       " 82544.73523142033,\n",
       " 100259.34653025144,\n",
       " 123464.76964333115,\n",
       " 153514.88353703098,\n",
       " 173685.78466871197,\n",
       " 150100.40646264493,\n",
       " 121269.36689563774,\n",
       " 99446.32712217222,\n",
       " 82328.8786689619]"
      ]
     },
     "execution_count": 98,
     "metadata": {},
     "output_type": "execute_result"
    }
   ],
   "source": [
    "uscore"
   ]
  },
  {
   "cell_type": "code",
   "execution_count": 73,
   "metadata": {},
   "outputs": [
    {
     "data": {
      "text/plain": [
       "array([-0.02673104, -0.02132151, -0.01591198, -0.01050246, -0.00509293,\n",
       "        0.00031659,  0.00572612,  0.01113564,  0.01654517,  0.0219547 ])"
      ]
     },
     "execution_count": 73,
     "metadata": {},
     "output_type": "execute_result"
    }
   ],
   "source": [
    "np.linspace(rmean-rstd,rmean+rstd,10,endpoint=False)"
   ]
  },
  {
   "cell_type": "code",
   "execution_count": 103,
   "metadata": {},
   "outputs": [
    {
     "data": {
      "text/plain": [
       "156310"
      ]
     },
     "execution_count": 103,
     "metadata": {},
     "output_type": "execute_result"
    }
   ],
   "source": [
    "np.sum(pred_df['action'])"
   ]
  },
  {
   "cell_type": "code",
   "execution_count": 110,
   "metadata": {},
   "outputs": [],
   "source": [
    "trade_profile = pd.pivot_table(pred_df, index='date', values='action',\n",
    "           aggfunc={'action':[np.sum,np.std, np.mean]},fill_value=0)"
   ]
  },
  {
   "cell_type": "code",
   "execution_count": 112,
   "metadata": {},
   "outputs": [
    {
     "data": {
      "text/plain": [
       "mean      0.095444\n",
       "std       0.288739\n",
       "sum     377.560386\n",
       "dtype: float64"
      ]
     },
     "execution_count": 112,
     "metadata": {},
     "output_type": "execute_result"
    }
   ],
   "source": [
    "\n",
    "trade_profile.mean(axis = 0)"
   ]
  },
  {
   "cell_type": "code",
   "execution_count": null,
   "metadata": {},
   "outputs": [],
   "source": []
  }
 ],
 "metadata": {
  "kernelspec": {
   "display_name": "Python [conda env:kaggle_tf] *",
   "language": "python",
   "name": "conda-env-kaggle_tf-py"
  },
  "language_info": {
   "codemirror_mode": {
    "name": "ipython",
    "version": 3
   },
   "file_extension": ".py",
   "mimetype": "text/x-python",
   "name": "python",
   "nbconvert_exporter": "python",
   "pygments_lexer": "ipython3",
   "version": "3.8.5"
  }
 },
 "nbformat": 4,
 "nbformat_minor": 4
}
