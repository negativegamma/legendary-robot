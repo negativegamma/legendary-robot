{
 "cells": [
  {
   "cell_type": "code",
   "execution_count": 1,
   "metadata": {},
   "outputs": [
    {
     "name": "stdout",
     "output_type": "stream",
     "text": [
      "Data Frame\n",
      "   x1  x2  x3  x4\n",
      "0   1   0   2  -1\n",
      "1   4   0   8  -4\n",
      "2   4   8   8  -4\n",
      "3   5   2  10  -4\n",
      "4   6   4  12  -5\n",
      "\n",
      "Correlation Matrix\n",
      "          x1        x2        x3        x4\n",
      "x1  1.000000  0.399298  1.000000 -0.969248\n",
      "x2  0.399298  1.000000  0.399298 -0.472866\n",
      "x3  1.000000  0.399298  1.000000 -0.969248\n",
      "x4 -0.969248 -0.472866 -0.969248  1.000000\n",
      "\n",
      "Top Absolute Correlations\n",
      "x1  x3    1.000000\n",
      "    x4    0.969248\n",
      "x3  x4    0.969248\n",
      "dtype: float64\n"
     ]
    }
   ],
   "source": [
    "\n",
    "#https://stackoverflow.com/questions/17778394/list-highest-correlation-pairs-from-a-large-correlation-matrix-in-pandas\n",
    "\n",
    "import pandas as pd\n",
    "d = {'x1': [1, 4, 4, 5, 6], \n",
    "     'x2': [0, 0, 8, 2, 4], \n",
    "     'x3': [2, 8, 8, 10, 12], \n",
    "     'x4': [-1, -4, -4, -4, -5]}\n",
    "df = pd.DataFrame(data = d)\n",
    "print(\"Data Frame\")\n",
    "print(df)\n",
    "print()\n",
    "\n",
    "print(\"Correlation Matrix\")\n",
    "print(df.corr())\n",
    "print()\n",
    "\n",
    "def get_redundant_pairs(df):\n",
    "    '''Get diagonal and lower triangular pairs of correlation matrix'''\n",
    "    pairs_to_drop = set()\n",
    "    cols = df.columns\n",
    "    for i in range(0, df.shape[1]):\n",
    "        for j in range(0, i+1):\n",
    "            pairs_to_drop.add((cols[i], cols[j]))\n",
    "    return pairs_to_drop\n",
    "\n",
    "def get_top_abs_correlations(df, n=5):\n",
    "    au_corr = df.corr().abs().unstack()\n",
    "    labels_to_drop = get_redundant_pairs(df)\n",
    "    au_corr = au_corr.drop(labels=labels_to_drop).sort_values(ascending=False)\n",
    "    return au_corr[0:n]\n",
    "\n",
    "print(\"Top Absolute Correlations\")\n",
    "print(get_top_abs_correlations(df, 3))"
   ]
  },
  {
   "cell_type": "code",
   "execution_count": null,
   "metadata": {},
   "outputs": [],
   "source": []
  }
 ],
 "metadata": {
  "kernelspec": {
   "display_name": "Python [conda env:kaggle_tf] *",
   "language": "python",
   "name": "conda-env-kaggle_tf-py"
  },
  "language_info": {
   "codemirror_mode": {
    "name": "ipython",
    "version": 3
   },
   "file_extension": ".py",
   "mimetype": "text/x-python",
   "name": "python",
   "nbconvert_exporter": "python",
   "pygments_lexer": "ipython3",
   "version": "3.8.5"
  }
 },
 "nbformat": 4,
 "nbformat_minor": 4
}
