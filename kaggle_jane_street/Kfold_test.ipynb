{
 "cells": [
  {
   "cell_type": "code",
   "execution_count": 1,
   "metadata": {},
   "outputs": [
    {
     "data": {
      "text/html": [
       "<style type='text/css'>\n",
       ".datatable table.frame { margin-bottom: 0; }\n",
       ".datatable table.frame thead { border-bottom: none; }\n",
       ".datatable table.frame tr.coltypes td {  color: #FFFFFF;  line-height: 6px;  padding: 0 0.5em;}\n",
       ".datatable .bool    { background: #DDDD99; }\n",
       ".datatable .object  { background: #565656; }\n",
       ".datatable .int     { background: #5D9E5D; }\n",
       ".datatable .float   { background: #4040CC; }\n",
       ".datatable .str     { background: #CC4040; }\n",
       ".datatable .row_index {  background: var(--jp-border-color3);  border-right: 1px solid var(--jp-border-color0);  color: var(--jp-ui-font-color3);  font-size: 9px;}\n",
       ".datatable .frame tr.coltypes .row_index {  background: var(--jp-border-color0);}\n",
       ".datatable th:nth-child(2) { padding-left: 12px; }\n",
       ".datatable .hellipsis {  color: var(--jp-cell-editor-border-color);}\n",
       ".datatable .vellipsis {  background: var(--jp-layout-color0);  color: var(--jp-cell-editor-border-color);}\n",
       ".datatable .na {  color: var(--jp-cell-editor-border-color);  font-size: 80%;}\n",
       ".datatable .footer { font-size: 9px; }\n",
       ".datatable .frame_dimensions {  background: var(--jp-border-color3);  border-top: 1px solid var(--jp-border-color0);  color: var(--jp-ui-font-color3);  display: inline-block;  opacity: 0.6;  padding: 1px 10px 1px 5px;}\n",
       "</style>\n"
      ],
      "text/plain": [
       "<IPython.core.display.HTML object>"
      ]
     },
     "metadata": {},
     "output_type": "display_data"
    }
   ],
   "source": [
    "\n",
    "\n",
    "import pandas as pd\n",
    "import os\n",
    "import numpy as np\n",
    "from sklearn import metrics\n",
    "from sklearn.model_selection import StratifiedKFold\n",
    "from tensorflow.keras.models import Sequential\n",
    "from tensorflow.keras.layers import Dense, Activation\n",
    "\n",
    "import seaborn as sns\n",
    "import matplotlib.pyplot as plt\n",
    "import datatable as dt\n",
    "\n",
    "SEED = 123\n",
    "\n",
    "data = dt.fread('~/jane-street-market-prediction/train.csv').to_pandas()\n"
   ]
  },
  {
   "cell_type": "code",
   "execution_count": 2,
   "metadata": {},
   "outputs": [
    {
     "name": "stdout",
     "output_type": "stream",
     "text": [
      "[  0   1   2   3   4   5   6   7   8   9  10  11  12  13  14  15  16  17\n",
      "  18  19  20  21  22  23  24  25  26  27  28  29  30  31  32  33  34  35\n",
      "  36  37  38  39  40  41  42  43  44  45  46  47  48  49  50  51  52  53\n",
      "  54  55  56  57  58  59  60  61  62  63  64  65  66  67  68  69  70  71\n",
      "  72  73  74  75  76  77  78  79  80  81  82  83  84  85  86  87  88  89\n",
      "  90  91  92  93  94  95  96  97  98  99 100 101 102 103 104 105 106 107\n",
      " 108 109 110 111 112 113 114 115 116 117 118 119 120 121 122 123 124 125\n",
      " 126 127 128 129 130 131 132 133 134 135 136 137 138 139 140 141 142 143\n",
      " 144 145 146 147 148 149 150 151 152 153 154 155 156 157 158 159 160 161\n",
      " 162 163 164 165 166 167 168 169 170 171 172 173 174 175 176 177 178 179\n",
      " 180 181 182 183 184 185 186 187 188 189 190 191 192 193 194 195 196 197\n",
      " 198 199 200 201 202 203 204 205 206 207 208 209 210 211 212 213 214 215\n",
      " 216 217 218 219 220 221 222 223 224 225 226 227 228 229 230 231 232 233\n",
      " 234 235 236 237 238 239 240 241 242 243 244 245 246 247 248 249 250 251\n",
      " 252 253 254 255 256 257 258 259 260 261 262 263 264 265 266 267 268 269\n",
      " 270 271 272 273 274 275 276 277 278 279 280 281 282 283 284 285 286 287\n",
      " 288 289 290 291 292 293 294 295 296 297 298 299 300 301 302 303 304 305\n",
      " 306 307 308 309 310 311 312 313 314 315 316 317 318 319 320 321 322 323\n",
      " 324 325 326 327 328 329 330 331 332 333 334 335 336 337 338 339 340 341\n",
      " 342 343 344 345 346 347 348 349 350 351 352 353 354 355 356 357 358 359\n",
      " 360 361 362 363 364 365 366 367 368 369 370 371 372 373 374 375 376 377\n",
      " 378 379 380 381 382 383 384 385 386 387 388 389 390 391 392 393 394 395\n",
      " 396 397 398 399 400 401 402 403 404 405 406 407 408 409 410 411 412 413\n",
      " 414 415 416 417 418 419 420 421 422 423 424 425 426 427 428 429 430 431\n",
      " 432 433 434 435 436 437 438 439 440 441 442 443 444 445 446 447 448 449\n",
      " 450 451 452 453 454 455 456 457 458 459 460 461 462 463 464 465 466 467\n",
      " 468 469 470 471 472 473 474 475 476 477 478 479 480 481 482 483 484 485\n",
      " 486 487 488 489 490 491 492 493 494 495 496 497 498 499]\n",
      "[451 435 486   1 207  63 402 301  32 472 337 164 370 219 395 211 310 360\n",
      " 119 220 106 240 287 189  75 479 456 269 391 133 436 176 148 469 279  11\n",
      " 167 300 299 439 352 135  26 437  36 401 414 417 381 450 243 375 378 251\n",
      " 319  87 221 234 233 376 498 188 442 252 327 447 363 201 125 264  25 237\n",
      " 306 392 236 227  74 149  64 403  93 311 369 293 483 339  19 191  51 426\n",
      " 314 365 400 422  80 346 356 175 206 449 134 155 361 268 409 117 405  98\n",
      "  22 398 351 462 487 493   4 358 341 278 454 499 399 357 407 144 457  34\n",
      "  97 474 222   2  91 292 120 463  18 138 302 461 482 109  15 385 141 305\n",
      " 349 203 465  79  45 157 108  41 267   5 336 324  68 185 184  14 277 218\n",
      "  48 335 104 374 166 443 367  20 190 248 415  77 212 383 496  95  56 448\n",
      "   8 139 152 362 347 387 388 111  10 131 294 145  29 304 468  83 342 263\n",
      " 123 202  85 217 171 260 280 359 328 343 441 228 159 321 480 355 257 433\n",
      " 265  23  99 275 209 318  40 466  86 200  60  55 226 325  52 459 272 112\n",
      " 303 491 332 105 371 137  39 379 453 471 353 476 147 161 384 428 208  35\n",
      " 331 205 116 440 289 254 270 196  70 467 271  31 230 181  30 333 182 340\n",
      " 225 334 179 411  82 235 420 281 250 193 427 163 110 464 186 255 495 258\n",
      " 113 307  49 173 246 249 412 380  61 128  50 216 408 154 178 413 194 204\n",
      " 393  16 276 241 348 174 266 172 259 151 143 195 481 168  67 432 396 455\n",
      "  47  21 368 372 239  17 118 210  72  66 142 320 434  24 452 470 132 198\n",
      "  73 261 100  33 284 231 136  59 273 406 298 102 489 484 458  62 127 419\n",
      " 492 245 256 418 140 429 296  58  81 488 404 445  65 478  94 291 165 317\n",
      " 421 366 130 425 169 150 223 473 475 177 158 350 373 330 244 153 430 309\n",
      " 390 115 497  88  57 160 423 180 377 386 192 338 431 129 124 438 329 288\n",
      " 444 199 285 446 197 354 313 213 316  13  69 326  42 247 344 232 424  90\n",
      "  28 308  37 229 242  92 490 238 114 394 107 253 224   7 274 122 322 156\n",
      "  84 397 214 283 170   0 460 146  53   3 410  46 282  12 323  43 262  71\n",
      " 485  96  78 315   9 183 215 416 345 101  44 382  54  38 389 162  76 312\n",
      "  27 103 126 494   6 121 364 297 477 187  89 286 290 295]\n"
     ]
    }
   ],
   "source": [
    "unique_dates = np.unique(data['date'] )\n",
    "print(unique_dates)\n",
    "np.random.shuffle(unique_dates)\n",
    "print(unique_dates)"
   ]
  },
  {
   "cell_type": "code",
   "execution_count": 3,
   "metadata": {},
   "outputs": [],
   "source": [
    "folds = 5\n",
    "idx = np.linspace(start = 0, stop = len(unique_dates)-1, num = folds + 1, dtype = int)"
   ]
  },
  {
   "cell_type": "code",
   "execution_count": 4,
   "metadata": {},
   "outputs": [],
   "source": [
    "mask = data['date'].isin(unique_dates[idx[0]:idx[0+1]] )"
   ]
  },
  {
   "cell_type": "code",
   "execution_count": null,
   "metadata": {},
   "outputs": [],
   "source": [
    " def create_mlp2(\n",
    "    num_columns, num_labels, hidden_units, dropout_rates, label_smoothing, learning_rate\n",
    "):\n",
    "\n",
    "    inp = tf.keras.layers.Input(shape=(num_columns,))\n",
    "    x = tf.keras.layers.BatchNormalization()(inp)\n",
    "    #x = tf.keras.layers.BatchNormalization()(inp)\n",
    "    x = tf.keras.layers.Dropout(dropout_rates[0])(x) #(x)\n",
    "    \n",
    "    for i in range(len(hidden_units)):\n",
    "        x = tf.keras.layers.Dense(hidden_units[i])(x)\n",
    "        x = tf.keras.layers.BatchNormalization()(x)\n",
    "        x = tf.keras.layers.Activation(tf.keras.activations.relu)(x)\n",
    "        #x = tf.keras.layers.Activation(tf.keras.activations.swish)(x)\n",
    "        x = tf.keras.layers.Dropout(dropout_rates[i + 1])(x)\n",
    "        x = tf.keras.layers.Concatenate(axis=1)([x, inp])\n",
    "        x = tf.keras.layers.BatchNormalization()(x)\n",
    "        x = tf.keras.layers.Dense(hidden_units[i])(x)\n",
    "        x = tf.keras.layers.Dropout(dropout_rates[i + 1])(x)\n",
    "\n",
    "    x = tf.keras.layers.Dense(num_labels)(x)\n",
    "    out = tf.keras.layers.Activation(\"sigmoid\")(x)\n",
    "\n",
    "    model = tf.keras.models.Model(inputs=inp, outputs=out)\n",
    "    model.compile(\n",
    "        optimizer=tf.keras.optimizers.Adam(learning_rate=learning_rate),\n",
    "        loss=tf.keras.losses.BinaryCrossentropy(label_smoothing=label_smoothing),\n",
    "        metrics=tf.keras.metrics.AUC(name=\"AUC\"),\n",
    "    )\n",
    "\n",
    "    return model"
   ]
  },
  {
   "cell_type": "code",
   "execution_count": null,
   "metadata": {},
   "outputs": [],
   "source": [
    "folds = 5\n",
    "idx = np.linspace(start = 0, stop = len(unique_dates)-1, num = folds + 1, dtype = int)\n",
    "for f in range(folds):\n",
    "    mask = data['date'].isin(unique_dates[idx[f]:idx[f+1]] )\n",
    "    train = data[~mask]\n",
    "    val = data[mask]\n",
    "    \n",
    "    train.fillna(train.mean(),inplace=True)\n",
    "\n",
    "    features = [c for c in train.columns if \"feature\" in c]\n",
    "\n",
    "    f_mean = np.mean(train[features[1:]].values,axis=0)\n",
    "\n",
    "    X_train = train.loc[:, train.columns.str.contains('feature')]\n",
    "    y_train = (train.loc[:, 'action'])\n",
    "    \n",
    "\n",
    "    batch_size = 5000\n",
    "    hidden_units = [260, 260, 130]\n",
    "    dropout_rates = [0.2, 0.2, 0.2, 0.2]\n",
    "    label_smoothing = 1e-2\n",
    "    learning_rate = 1e-3\n",
    "\n",
    "    clf = create_mlp2(\n",
    "        len(features), 1, hidden_units, dropout_rates, label_smoothing, learning_rate\n",
    "        )\n",
    "\n",
    "    clf.fit(X_train, y_train, epochs=200, batch_size=20000)\n",
    "\n",
    "    opt_th = 0.5000\n",
    "    \n",
    "    "
   ]
  },
  {
   "cell_type": "code",
   "execution_count": null,
   "metadata": {},
   "outputs": [],
   "source": [
    "pred_df = train[['date', 'resp','weight']]\n",
    "pred_df['actual'] = ((train['resp'].values) > 0).astype(int)"
   ]
  },
  {
   "cell_type": "code",
   "execution_count": null,
   "metadata": {},
   "outputs": [],
   "source": [
    "preds = clf(X_train.values, training=False)"
   ]
  },
  {
   "cell_type": "code",
   "execution_count": null,
   "metadata": {},
   "outputs": [],
   "source": [
    "from math import sqrt\n",
    "\n",
    "def utility_score(df,action_vec):\n",
    "    \"\"\"Calculate utility score of a dataframe according to formulas defined at\n",
    "    https://www.kaggle.com/c/jane-street-market-prediction/overview/evaluation\n",
    "    \"\"\"\n",
    "\n",
    "    p = df['weight']  * df['resp'] * action_vec\n",
    "    df['p'] = p\n",
    "    p_i = df.set_index('date')['p'].groupby('date').sum()\n",
    "    t = (p_i.sum() / sqrt((p_i**2).sum())) * (sqrt(250 / p_i.index.size))\n",
    "    return min(max(t, 0), 6) * p_i.sum()"
   ]
  },
  {
   "cell_type": "code",
   "execution_count": null,
   "metadata": {},
   "outputs": [],
   "source": [
    "pred_df['preds'] = preds.numpy()"
   ]
  },
  {
   "cell_type": "code",
   "execution_count": null,
   "metadata": {},
   "outputs": [],
   "source": [
    "pred_df['action'] = (pred_df['preds'] >= 0.5) * 1"
   ]
  },
  {
   "cell_type": "code",
   "execution_count": null,
   "metadata": {},
   "outputs": [],
   "source": [
    "utility_score(pred_df, pred_df['action']) / utility_score(pred_df, pred_df['actual'])\n"
   ]
  },
  {
   "cell_type": "code",
   "execution_count": null,
   "metadata": {},
   "outputs": [],
   "source": []
  },
  {
   "cell_type": "code",
   "execution_count": null,
   "metadata": {},
   "outputs": [],
   "source": []
  }
 ],
 "metadata": {
  "kernelspec": {
   "display_name": "Python [conda env:kaggle_tf] *",
   "language": "python",
   "name": "conda-env-kaggle_tf-py"
  },
  "language_info": {
   "codemirror_mode": {
    "name": "ipython",
    "version": 3
   },
   "file_extension": ".py",
   "mimetype": "text/x-python",
   "name": "python",
   "nbconvert_exporter": "python",
   "pygments_lexer": "ipython3",
   "version": "3.8.5"
  }
 },
 "nbformat": 4,
 "nbformat_minor": 4
}
